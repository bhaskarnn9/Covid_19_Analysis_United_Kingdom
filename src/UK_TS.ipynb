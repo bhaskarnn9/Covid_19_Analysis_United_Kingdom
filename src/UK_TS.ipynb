{
 "cells": [
  {
   "cell_type": "markdown",
   "metadata": {},
   "source": [
    "# Tools"
   ]
  },
  {
   "cell_type": "code",
   "execution_count": 1,
   "metadata": {},
   "outputs": [],
   "source": [
    "import pandas as pd\n",
    "%matplotlib inline"
   ]
  },
  {
   "cell_type": "markdown",
   "metadata": {},
   "source": [
    "# Load Data"
   ]
  },
  {
   "cell_type": "code",
   "execution_count": 2,
   "metadata": {},
   "outputs": [
    {
     "data": {
      "text/html": [
       "<div>\n",
       "<style scoped>\n",
       "    .dataframe tbody tr th:only-of-type {\n",
       "        vertical-align: middle;\n",
       "    }\n",
       "\n",
       "    .dataframe tbody tr th {\n",
       "        vertical-align: top;\n",
       "    }\n",
       "\n",
       "    .dataframe thead th {\n",
       "        text-align: right;\n",
       "    }\n",
       "</style>\n",
       "<table border=\"1\" class=\"dataframe\">\n",
       "  <thead>\n",
       "    <tr style=\"text-align: right;\">\n",
       "      <th></th>\n",
       "      <th>Province/State</th>\n",
       "      <th>Country/Region</th>\n",
       "      <th>Lat</th>\n",
       "      <th>Long</th>\n",
       "      <th>1/22/20</th>\n",
       "      <th>1/23/20</th>\n",
       "      <th>1/24/20</th>\n",
       "      <th>1/25/20</th>\n",
       "      <th>1/26/20</th>\n",
       "      <th>1/27/20</th>\n",
       "      <th>...</th>\n",
       "      <th>7/15/20</th>\n",
       "      <th>7/16/20</th>\n",
       "      <th>7/17/20</th>\n",
       "      <th>7/18/20</th>\n",
       "      <th>7/19/20</th>\n",
       "      <th>7/20/20</th>\n",
       "      <th>7/21/20</th>\n",
       "      <th>7/22/20</th>\n",
       "      <th>7/23/20</th>\n",
       "      <th>7/24/20</th>\n",
       "    </tr>\n",
       "  </thead>\n",
       "  <tbody>\n",
       "    <tr>\n",
       "      <th>0</th>\n",
       "      <td>NaN</td>\n",
       "      <td>Afghanistan</td>\n",
       "      <td>33.93911</td>\n",
       "      <td>67.709953</td>\n",
       "      <td>0</td>\n",
       "      <td>0</td>\n",
       "      <td>0</td>\n",
       "      <td>0</td>\n",
       "      <td>0</td>\n",
       "      <td>0</td>\n",
       "      <td>...</td>\n",
       "      <td>34994</td>\n",
       "      <td>35070</td>\n",
       "      <td>35229</td>\n",
       "      <td>35301</td>\n",
       "      <td>35475</td>\n",
       "      <td>35526</td>\n",
       "      <td>35615</td>\n",
       "      <td>35727</td>\n",
       "      <td>35928</td>\n",
       "      <td>35981</td>\n",
       "    </tr>\n",
       "    <tr>\n",
       "      <th>1</th>\n",
       "      <td>NaN</td>\n",
       "      <td>Albania</td>\n",
       "      <td>41.15330</td>\n",
       "      <td>20.168300</td>\n",
       "      <td>0</td>\n",
       "      <td>0</td>\n",
       "      <td>0</td>\n",
       "      <td>0</td>\n",
       "      <td>0</td>\n",
       "      <td>0</td>\n",
       "      <td>...</td>\n",
       "      <td>3752</td>\n",
       "      <td>3851</td>\n",
       "      <td>3906</td>\n",
       "      <td>4008</td>\n",
       "      <td>4090</td>\n",
       "      <td>4171</td>\n",
       "      <td>4290</td>\n",
       "      <td>4358</td>\n",
       "      <td>4466</td>\n",
       "      <td>4570</td>\n",
       "    </tr>\n",
       "    <tr>\n",
       "      <th>2</th>\n",
       "      <td>NaN</td>\n",
       "      <td>Algeria</td>\n",
       "      <td>28.03390</td>\n",
       "      <td>1.659600</td>\n",
       "      <td>0</td>\n",
       "      <td>0</td>\n",
       "      <td>0</td>\n",
       "      <td>0</td>\n",
       "      <td>0</td>\n",
       "      <td>0</td>\n",
       "      <td>...</td>\n",
       "      <td>20770</td>\n",
       "      <td>21355</td>\n",
       "      <td>21948</td>\n",
       "      <td>22549</td>\n",
       "      <td>23084</td>\n",
       "      <td>23691</td>\n",
       "      <td>24278</td>\n",
       "      <td>24872</td>\n",
       "      <td>25484</td>\n",
       "      <td>26159</td>\n",
       "    </tr>\n",
       "    <tr>\n",
       "      <th>3</th>\n",
       "      <td>NaN</td>\n",
       "      <td>Andorra</td>\n",
       "      <td>42.50630</td>\n",
       "      <td>1.521800</td>\n",
       "      <td>0</td>\n",
       "      <td>0</td>\n",
       "      <td>0</td>\n",
       "      <td>0</td>\n",
       "      <td>0</td>\n",
       "      <td>0</td>\n",
       "      <td>...</td>\n",
       "      <td>862</td>\n",
       "      <td>877</td>\n",
       "      <td>880</td>\n",
       "      <td>880</td>\n",
       "      <td>880</td>\n",
       "      <td>884</td>\n",
       "      <td>884</td>\n",
       "      <td>889</td>\n",
       "      <td>889</td>\n",
       "      <td>897</td>\n",
       "    </tr>\n",
       "    <tr>\n",
       "      <th>4</th>\n",
       "      <td>NaN</td>\n",
       "      <td>Angola</td>\n",
       "      <td>-11.20270</td>\n",
       "      <td>17.873900</td>\n",
       "      <td>0</td>\n",
       "      <td>0</td>\n",
       "      <td>0</td>\n",
       "      <td>0</td>\n",
       "      <td>0</td>\n",
       "      <td>0</td>\n",
       "      <td>...</td>\n",
       "      <td>576</td>\n",
       "      <td>607</td>\n",
       "      <td>638</td>\n",
       "      <td>687</td>\n",
       "      <td>705</td>\n",
       "      <td>749</td>\n",
       "      <td>779</td>\n",
       "      <td>812</td>\n",
       "      <td>851</td>\n",
       "      <td>880</td>\n",
       "    </tr>\n",
       "  </tbody>\n",
       "</table>\n",
       "<p>5 rows × 189 columns</p>\n",
       "</div>"
      ],
      "text/plain": [
       "  Province/State Country/Region       Lat       Long  1/22/20  1/23/20  \\\n",
       "0            NaN    Afghanistan  33.93911  67.709953        0        0   \n",
       "1            NaN        Albania  41.15330  20.168300        0        0   \n",
       "2            NaN        Algeria  28.03390   1.659600        0        0   \n",
       "3            NaN        Andorra  42.50630   1.521800        0        0   \n",
       "4            NaN         Angola -11.20270  17.873900        0        0   \n",
       "\n",
       "   1/24/20  1/25/20  1/26/20  1/27/20  ...  7/15/20  7/16/20  7/17/20  \\\n",
       "0        0        0        0        0  ...    34994    35070    35229   \n",
       "1        0        0        0        0  ...     3752     3851     3906   \n",
       "2        0        0        0        0  ...    20770    21355    21948   \n",
       "3        0        0        0        0  ...      862      877      880   \n",
       "4        0        0        0        0  ...      576      607      638   \n",
       "\n",
       "   7/18/20  7/19/20  7/20/20  7/21/20  7/22/20  7/23/20  7/24/20  \n",
       "0    35301    35475    35526    35615    35727    35928    35981  \n",
       "1     4008     4090     4171     4290     4358     4466     4570  \n",
       "2    22549    23084    23691    24278    24872    25484    26159  \n",
       "3      880      880      884      884      889      889      897  \n",
       "4      687      705      749      779      812      851      880  \n",
       "\n",
       "[5 rows x 189 columns]"
      ]
     },
     "execution_count": 2,
     "metadata": {},
     "output_type": "execute_result"
    }
   ],
   "source": [
    "data_url = 'https://raw.githubusercontent.com/CSSEGISandData/COVID-19/master/csse_covid_19_data/csse_covid_19_time_series/time_series_covid19_confirmed_global.csv'\n",
    "df = pd.read_csv(data_url)\n",
    "df.head()"
   ]
  },
  {
   "cell_type": "markdown",
   "metadata": {},
   "source": [
    "# Data preparation"
   ]
  },
  {
   "cell_type": "code",
   "execution_count": 3,
   "metadata": {},
   "outputs": [
    {
     "data": {
      "text/plain": [
       "(266, 189)"
      ]
     },
     "execution_count": 3,
     "metadata": {},
     "output_type": "execute_result"
    }
   ],
   "source": [
    "df.shape"
   ]
  },
  {
   "cell_type": "code",
   "execution_count": 4,
   "metadata": {},
   "outputs": [
    {
     "data": {
      "text/html": [
       "<div>\n",
       "<style scoped>\n",
       "    .dataframe tbody tr th:only-of-type {\n",
       "        vertical-align: middle;\n",
       "    }\n",
       "\n",
       "    .dataframe tbody tr th {\n",
       "        vertical-align: top;\n",
       "    }\n",
       "\n",
       "    .dataframe thead th {\n",
       "        text-align: right;\n",
       "    }\n",
       "</style>\n",
       "<table border=\"1\" class=\"dataframe\">\n",
       "  <thead>\n",
       "    <tr style=\"text-align: right;\">\n",
       "      <th></th>\n",
       "      <th>Province/State</th>\n",
       "      <th>Country/Region</th>\n",
       "      <th>Lat</th>\n",
       "      <th>Long</th>\n",
       "      <th>1/22/20</th>\n",
       "      <th>1/23/20</th>\n",
       "      <th>1/24/20</th>\n",
       "      <th>1/25/20</th>\n",
       "      <th>1/26/20</th>\n",
       "      <th>1/27/20</th>\n",
       "      <th>...</th>\n",
       "      <th>7/15/20</th>\n",
       "      <th>7/16/20</th>\n",
       "      <th>7/17/20</th>\n",
       "      <th>7/18/20</th>\n",
       "      <th>7/19/20</th>\n",
       "      <th>7/20/20</th>\n",
       "      <th>7/21/20</th>\n",
       "      <th>7/22/20</th>\n",
       "      <th>7/23/20</th>\n",
       "      <th>7/24/20</th>\n",
       "    </tr>\n",
       "  </thead>\n",
       "  <tbody>\n",
       "    <tr>\n",
       "      <th>217</th>\n",
       "      <td>Bermuda</td>\n",
       "      <td>United Kingdom</td>\n",
       "      <td>32.3078</td>\n",
       "      <td>-64.7505</td>\n",
       "      <td>0</td>\n",
       "      <td>0</td>\n",
       "      <td>0</td>\n",
       "      <td>0</td>\n",
       "      <td>0</td>\n",
       "      <td>0</td>\n",
       "      <td>...</td>\n",
       "      <td>150</td>\n",
       "      <td>152</td>\n",
       "      <td>152</td>\n",
       "      <td>153</td>\n",
       "      <td>153</td>\n",
       "      <td>153</td>\n",
       "      <td>153</td>\n",
       "      <td>153</td>\n",
       "      <td>153</td>\n",
       "      <td>153</td>\n",
       "    </tr>\n",
       "    <tr>\n",
       "      <th>218</th>\n",
       "      <td>Cayman Islands</td>\n",
       "      <td>United Kingdom</td>\n",
       "      <td>19.3133</td>\n",
       "      <td>-81.2546</td>\n",
       "      <td>0</td>\n",
       "      <td>0</td>\n",
       "      <td>0</td>\n",
       "      <td>0</td>\n",
       "      <td>0</td>\n",
       "      <td>0</td>\n",
       "      <td>...</td>\n",
       "      <td>203</td>\n",
       "      <td>203</td>\n",
       "      <td>203</td>\n",
       "      <td>203</td>\n",
       "      <td>203</td>\n",
       "      <td>203</td>\n",
       "      <td>203</td>\n",
       "      <td>203</td>\n",
       "      <td>203</td>\n",
       "      <td>203</td>\n",
       "    </tr>\n",
       "    <tr>\n",
       "      <th>219</th>\n",
       "      <td>Channel Islands</td>\n",
       "      <td>United Kingdom</td>\n",
       "      <td>49.3723</td>\n",
       "      <td>-2.3644</td>\n",
       "      <td>0</td>\n",
       "      <td>0</td>\n",
       "      <td>0</td>\n",
       "      <td>0</td>\n",
       "      <td>0</td>\n",
       "      <td>0</td>\n",
       "      <td>...</td>\n",
       "      <td>581</td>\n",
       "      <td>583</td>\n",
       "      <td>583</td>\n",
       "      <td>583</td>\n",
       "      <td>583</td>\n",
       "      <td>583</td>\n",
       "      <td>583</td>\n",
       "      <td>583</td>\n",
       "      <td>583</td>\n",
       "      <td>584</td>\n",
       "    </tr>\n",
       "    <tr>\n",
       "      <th>220</th>\n",
       "      <td>Gibraltar</td>\n",
       "      <td>United Kingdom</td>\n",
       "      <td>36.1408</td>\n",
       "      <td>-5.3536</td>\n",
       "      <td>0</td>\n",
       "      <td>0</td>\n",
       "      <td>0</td>\n",
       "      <td>0</td>\n",
       "      <td>0</td>\n",
       "      <td>0</td>\n",
       "      <td>...</td>\n",
       "      <td>180</td>\n",
       "      <td>180</td>\n",
       "      <td>180</td>\n",
       "      <td>180</td>\n",
       "      <td>180</td>\n",
       "      <td>180</td>\n",
       "      <td>180</td>\n",
       "      <td>182</td>\n",
       "      <td>184</td>\n",
       "      <td>184</td>\n",
       "    </tr>\n",
       "    <tr>\n",
       "      <th>221</th>\n",
       "      <td>Isle of Man</td>\n",
       "      <td>United Kingdom</td>\n",
       "      <td>54.2361</td>\n",
       "      <td>-4.5481</td>\n",
       "      <td>0</td>\n",
       "      <td>0</td>\n",
       "      <td>0</td>\n",
       "      <td>0</td>\n",
       "      <td>0</td>\n",
       "      <td>0</td>\n",
       "      <td>...</td>\n",
       "      <td>336</td>\n",
       "      <td>336</td>\n",
       "      <td>336</td>\n",
       "      <td>336</td>\n",
       "      <td>336</td>\n",
       "      <td>336</td>\n",
       "      <td>336</td>\n",
       "      <td>336</td>\n",
       "      <td>336</td>\n",
       "      <td>336</td>\n",
       "    </tr>\n",
       "  </tbody>\n",
       "</table>\n",
       "<p>5 rows × 189 columns</p>\n",
       "</div>"
      ],
      "text/plain": [
       "      Province/State  Country/Region      Lat     Long  1/22/20  1/23/20  \\\n",
       "217          Bermuda  United Kingdom  32.3078 -64.7505        0        0   \n",
       "218   Cayman Islands  United Kingdom  19.3133 -81.2546        0        0   \n",
       "219  Channel Islands  United Kingdom  49.3723  -2.3644        0        0   \n",
       "220        Gibraltar  United Kingdom  36.1408  -5.3536        0        0   \n",
       "221      Isle of Man  United Kingdom  54.2361  -4.5481        0        0   \n",
       "\n",
       "     1/24/20  1/25/20  1/26/20  1/27/20  ...  7/15/20  7/16/20  7/17/20  \\\n",
       "217        0        0        0        0  ...      150      152      152   \n",
       "218        0        0        0        0  ...      203      203      203   \n",
       "219        0        0        0        0  ...      581      583      583   \n",
       "220        0        0        0        0  ...      180      180      180   \n",
       "221        0        0        0        0  ...      336      336      336   \n",
       "\n",
       "     7/18/20  7/19/20  7/20/20  7/21/20  7/22/20  7/23/20  7/24/20  \n",
       "217      153      153      153      153      153      153      153  \n",
       "218      203      203      203      203      203      203      203  \n",
       "219      583      583      583      583      583      583      584  \n",
       "220      180      180      180      180      182      184      184  \n",
       "221      336      336      336      336      336      336      336  \n",
       "\n",
       "[5 rows x 189 columns]"
      ]
     },
     "execution_count": 4,
     "metadata": {},
     "output_type": "execute_result"
    }
   ],
   "source": [
    "#filter using country name\n",
    "df = df.loc[df['Country/Region'] == 'United Kingdom']\n",
    "df.head()"
   ]
  },
  {
   "cell_type": "code",
   "execution_count": 5,
   "metadata": {},
   "outputs": [
    {
     "data": {
      "text/html": [
       "<div>\n",
       "<style scoped>\n",
       "    .dataframe tbody tr th:only-of-type {\n",
       "        vertical-align: middle;\n",
       "    }\n",
       "\n",
       "    .dataframe tbody tr th {\n",
       "        vertical-align: top;\n",
       "    }\n",
       "\n",
       "    .dataframe thead th {\n",
       "        text-align: right;\n",
       "    }\n",
       "</style>\n",
       "<table border=\"1\" class=\"dataframe\">\n",
       "  <thead>\n",
       "    <tr style=\"text-align: right;\">\n",
       "      <th></th>\n",
       "      <th>Country/Region</th>\n",
       "      <th>1/22/20</th>\n",
       "      <th>1/23/20</th>\n",
       "      <th>1/24/20</th>\n",
       "      <th>1/25/20</th>\n",
       "      <th>1/26/20</th>\n",
       "      <th>1/27/20</th>\n",
       "      <th>1/28/20</th>\n",
       "      <th>1/29/20</th>\n",
       "      <th>1/30/20</th>\n",
       "      <th>...</th>\n",
       "      <th>7/15/20</th>\n",
       "      <th>7/16/20</th>\n",
       "      <th>7/17/20</th>\n",
       "      <th>7/18/20</th>\n",
       "      <th>7/19/20</th>\n",
       "      <th>7/20/20</th>\n",
       "      <th>7/21/20</th>\n",
       "      <th>7/22/20</th>\n",
       "      <th>7/23/20</th>\n",
       "      <th>7/24/20</th>\n",
       "    </tr>\n",
       "  </thead>\n",
       "  <tbody>\n",
       "    <tr>\n",
       "      <th>217</th>\n",
       "      <td>United Kingdom</td>\n",
       "      <td>0</td>\n",
       "      <td>0</td>\n",
       "      <td>0</td>\n",
       "      <td>0</td>\n",
       "      <td>0</td>\n",
       "      <td>0</td>\n",
       "      <td>0</td>\n",
       "      <td>0</td>\n",
       "      <td>0</td>\n",
       "      <td>...</td>\n",
       "      <td>150</td>\n",
       "      <td>152</td>\n",
       "      <td>152</td>\n",
       "      <td>153</td>\n",
       "      <td>153</td>\n",
       "      <td>153</td>\n",
       "      <td>153</td>\n",
       "      <td>153</td>\n",
       "      <td>153</td>\n",
       "      <td>153</td>\n",
       "    </tr>\n",
       "    <tr>\n",
       "      <th>218</th>\n",
       "      <td>United Kingdom</td>\n",
       "      <td>0</td>\n",
       "      <td>0</td>\n",
       "      <td>0</td>\n",
       "      <td>0</td>\n",
       "      <td>0</td>\n",
       "      <td>0</td>\n",
       "      <td>0</td>\n",
       "      <td>0</td>\n",
       "      <td>0</td>\n",
       "      <td>...</td>\n",
       "      <td>203</td>\n",
       "      <td>203</td>\n",
       "      <td>203</td>\n",
       "      <td>203</td>\n",
       "      <td>203</td>\n",
       "      <td>203</td>\n",
       "      <td>203</td>\n",
       "      <td>203</td>\n",
       "      <td>203</td>\n",
       "      <td>203</td>\n",
       "    </tr>\n",
       "    <tr>\n",
       "      <th>219</th>\n",
       "      <td>United Kingdom</td>\n",
       "      <td>0</td>\n",
       "      <td>0</td>\n",
       "      <td>0</td>\n",
       "      <td>0</td>\n",
       "      <td>0</td>\n",
       "      <td>0</td>\n",
       "      <td>0</td>\n",
       "      <td>0</td>\n",
       "      <td>0</td>\n",
       "      <td>...</td>\n",
       "      <td>581</td>\n",
       "      <td>583</td>\n",
       "      <td>583</td>\n",
       "      <td>583</td>\n",
       "      <td>583</td>\n",
       "      <td>583</td>\n",
       "      <td>583</td>\n",
       "      <td>583</td>\n",
       "      <td>583</td>\n",
       "      <td>584</td>\n",
       "    </tr>\n",
       "    <tr>\n",
       "      <th>220</th>\n",
       "      <td>United Kingdom</td>\n",
       "      <td>0</td>\n",
       "      <td>0</td>\n",
       "      <td>0</td>\n",
       "      <td>0</td>\n",
       "      <td>0</td>\n",
       "      <td>0</td>\n",
       "      <td>0</td>\n",
       "      <td>0</td>\n",
       "      <td>0</td>\n",
       "      <td>...</td>\n",
       "      <td>180</td>\n",
       "      <td>180</td>\n",
       "      <td>180</td>\n",
       "      <td>180</td>\n",
       "      <td>180</td>\n",
       "      <td>180</td>\n",
       "      <td>180</td>\n",
       "      <td>182</td>\n",
       "      <td>184</td>\n",
       "      <td>184</td>\n",
       "    </tr>\n",
       "    <tr>\n",
       "      <th>221</th>\n",
       "      <td>United Kingdom</td>\n",
       "      <td>0</td>\n",
       "      <td>0</td>\n",
       "      <td>0</td>\n",
       "      <td>0</td>\n",
       "      <td>0</td>\n",
       "      <td>0</td>\n",
       "      <td>0</td>\n",
       "      <td>0</td>\n",
       "      <td>0</td>\n",
       "      <td>...</td>\n",
       "      <td>336</td>\n",
       "      <td>336</td>\n",
       "      <td>336</td>\n",
       "      <td>336</td>\n",
       "      <td>336</td>\n",
       "      <td>336</td>\n",
       "      <td>336</td>\n",
       "      <td>336</td>\n",
       "      <td>336</td>\n",
       "      <td>336</td>\n",
       "    </tr>\n",
       "  </tbody>\n",
       "</table>\n",
       "<p>5 rows × 186 columns</p>\n",
       "</div>"
      ],
      "text/plain": [
       "     Country/Region  1/22/20  1/23/20  1/24/20  1/25/20  1/26/20  1/27/20  \\\n",
       "217  United Kingdom        0        0        0        0        0        0   \n",
       "218  United Kingdom        0        0        0        0        0        0   \n",
       "219  United Kingdom        0        0        0        0        0        0   \n",
       "220  United Kingdom        0        0        0        0        0        0   \n",
       "221  United Kingdom        0        0        0        0        0        0   \n",
       "\n",
       "     1/28/20  1/29/20  1/30/20  ...  7/15/20  7/16/20  7/17/20  7/18/20  \\\n",
       "217        0        0        0  ...      150      152      152      153   \n",
       "218        0        0        0  ...      203      203      203      203   \n",
       "219        0        0        0  ...      581      583      583      583   \n",
       "220        0        0        0  ...      180      180      180      180   \n",
       "221        0        0        0  ...      336      336      336      336   \n",
       "\n",
       "     7/19/20  7/20/20  7/21/20  7/22/20  7/23/20  7/24/20  \n",
       "217      153      153      153      153      153      153  \n",
       "218      203      203      203      203      203      203  \n",
       "219      583      583      583      583      583      584  \n",
       "220      180      180      180      182      184      184  \n",
       "221      336      336      336      336      336      336  \n",
       "\n",
       "[5 rows x 186 columns]"
      ]
     },
     "execution_count": 5,
     "metadata": {},
     "output_type": "execute_result"
    }
   ],
   "source": [
    "#remove unused columns\n",
    "df.drop('Province/State', axis=1, inplace=True)\n",
    "df.drop('Lat', axis=1, inplace=True)\n",
    "df.drop('Long', axis=1, inplace=True)\n",
    "df.head()"
   ]
  },
  {
   "cell_type": "code",
   "execution_count": 6,
   "metadata": {},
   "outputs": [],
   "source": [
    "#group all rows of same country\n",
    "df = df.groupby('Country/Region').sum()\n"
   ]
  },
  {
   "cell_type": "code",
   "execution_count": 7,
   "metadata": {},
   "outputs": [],
   "source": [
    "#remove zero values\n",
    "df = df.loc[:, (df != 0).any(axis=0)]"
   ]
  },
  {
   "cell_type": "code",
   "execution_count": 8,
   "metadata": {},
   "outputs": [
    {
     "data": {
      "text/html": [
       "<div>\n",
       "<style scoped>\n",
       "    .dataframe tbody tr th:only-of-type {\n",
       "        vertical-align: middle;\n",
       "    }\n",
       "\n",
       "    .dataframe tbody tr th {\n",
       "        vertical-align: top;\n",
       "    }\n",
       "\n",
       "    .dataframe thead th {\n",
       "        text-align: right;\n",
       "    }\n",
       "</style>\n",
       "<table border=\"1\" class=\"dataframe\">\n",
       "  <thead>\n",
       "    <tr style=\"text-align: right;\">\n",
       "      <th></th>\n",
       "      <th>1/31/20</th>\n",
       "      <th>2/1/20</th>\n",
       "      <th>2/2/20</th>\n",
       "      <th>2/3/20</th>\n",
       "      <th>2/4/20</th>\n",
       "      <th>2/5/20</th>\n",
       "      <th>2/6/20</th>\n",
       "      <th>2/7/20</th>\n",
       "      <th>2/8/20</th>\n",
       "      <th>2/9/20</th>\n",
       "      <th>...</th>\n",
       "      <th>7/15/20</th>\n",
       "      <th>7/16/20</th>\n",
       "      <th>7/17/20</th>\n",
       "      <th>7/18/20</th>\n",
       "      <th>7/19/20</th>\n",
       "      <th>7/20/20</th>\n",
       "      <th>7/21/20</th>\n",
       "      <th>7/22/20</th>\n",
       "      <th>7/23/20</th>\n",
       "      <th>7/24/20</th>\n",
       "    </tr>\n",
       "  </thead>\n",
       "  <tbody>\n",
       "    <tr>\n",
       "      <th>0</th>\n",
       "      <td>2</td>\n",
       "      <td>2</td>\n",
       "      <td>2</td>\n",
       "      <td>8</td>\n",
       "      <td>8</td>\n",
       "      <td>9</td>\n",
       "      <td>9</td>\n",
       "      <td>9</td>\n",
       "      <td>13</td>\n",
       "      <td>14</td>\n",
       "      <td>...</td>\n",
       "      <td>293469</td>\n",
       "      <td>294116</td>\n",
       "      <td>294803</td>\n",
       "      <td>295632</td>\n",
       "      <td>296358</td>\n",
       "      <td>296944</td>\n",
       "      <td>297389</td>\n",
       "      <td>297952</td>\n",
       "      <td>298731</td>\n",
       "      <td>299500</td>\n",
       "    </tr>\n",
       "  </tbody>\n",
       "</table>\n",
       "<p>1 rows × 176 columns</p>\n",
       "</div>"
      ],
      "text/plain": [
       "   1/31/20  2/1/20  2/2/20  2/3/20  2/4/20  2/5/20  2/6/20  2/7/20  2/8/20  \\\n",
       "0        2       2       2       8       8       9       9       9      13   \n",
       "\n",
       "   2/9/20  ...  7/15/20  7/16/20  7/17/20  7/18/20  7/19/20  7/20/20  7/21/20  \\\n",
       "0      14  ...   293469   294116   294803   295632   296358   296944   297389   \n",
       "\n",
       "   7/22/20  7/23/20  7/24/20  \n",
       "0   297952   298731   299500  \n",
       "\n",
       "[1 rows x 176 columns]"
      ]
     },
     "execution_count": 8,
     "metadata": {},
     "output_type": "execute_result"
    }
   ],
   "source": [
    "#remove the unused country column\n",
    "df.reset_index(inplace=True)\n",
    "df.drop('Country/Region', axis=1, inplace=True)\n",
    "df.head()"
   ]
  },
  {
   "cell_type": "code",
   "execution_count": 9,
   "metadata": {},
   "outputs": [],
   "source": [
    "# transpose\n",
    "df = df.transpose()"
   ]
  },
  {
   "cell_type": "code",
   "execution_count": 10,
   "metadata": {},
   "outputs": [
    {
     "data": {
      "text/html": [
       "<div>\n",
       "<style scoped>\n",
       "    .dataframe tbody tr th:only-of-type {\n",
       "        vertical-align: middle;\n",
       "    }\n",
       "\n",
       "    .dataframe tbody tr th {\n",
       "        vertical-align: top;\n",
       "    }\n",
       "\n",
       "    .dataframe thead th {\n",
       "        text-align: right;\n",
       "    }\n",
       "</style>\n",
       "<table border=\"1\" class=\"dataframe\">\n",
       "  <thead>\n",
       "    <tr style=\"text-align: right;\">\n",
       "      <th></th>\n",
       "      <th>0</th>\n",
       "    </tr>\n",
       "  </thead>\n",
       "  <tbody>\n",
       "    <tr>\n",
       "      <th>1/31/20</th>\n",
       "      <td>2</td>\n",
       "    </tr>\n",
       "    <tr>\n",
       "      <th>2/1/20</th>\n",
       "      <td>2</td>\n",
       "    </tr>\n",
       "    <tr>\n",
       "      <th>2/2/20</th>\n",
       "      <td>2</td>\n",
       "    </tr>\n",
       "    <tr>\n",
       "      <th>2/3/20</th>\n",
       "      <td>8</td>\n",
       "    </tr>\n",
       "    <tr>\n",
       "      <th>2/4/20</th>\n",
       "      <td>8</td>\n",
       "    </tr>\n",
       "    <tr>\n",
       "      <th>...</th>\n",
       "      <td>...</td>\n",
       "    </tr>\n",
       "    <tr>\n",
       "      <th>7/20/20</th>\n",
       "      <td>296944</td>\n",
       "    </tr>\n",
       "    <tr>\n",
       "      <th>7/21/20</th>\n",
       "      <td>297389</td>\n",
       "    </tr>\n",
       "    <tr>\n",
       "      <th>7/22/20</th>\n",
       "      <td>297952</td>\n",
       "    </tr>\n",
       "    <tr>\n",
       "      <th>7/23/20</th>\n",
       "      <td>298731</td>\n",
       "    </tr>\n",
       "    <tr>\n",
       "      <th>7/24/20</th>\n",
       "      <td>299500</td>\n",
       "    </tr>\n",
       "  </tbody>\n",
       "</table>\n",
       "<p>176 rows × 1 columns</p>\n",
       "</div>"
      ],
      "text/plain": [
       "              0\n",
       "1/31/20       2\n",
       "2/1/20        2\n",
       "2/2/20        2\n",
       "2/3/20        8\n",
       "2/4/20        8\n",
       "...         ...\n",
       "7/20/20  296944\n",
       "7/21/20  297389\n",
       "7/22/20  297952\n",
       "7/23/20  298731\n",
       "7/24/20  299500\n",
       "\n",
       "[176 rows x 1 columns]"
      ]
     },
     "execution_count": 10,
     "metadata": {},
     "output_type": "execute_result"
    }
   ],
   "source": [
    "df"
   ]
  },
  {
   "cell_type": "code",
   "execution_count": 11,
   "metadata": {},
   "outputs": [
    {
     "data": {
      "text/html": [
       "<div>\n",
       "<style scoped>\n",
       "    .dataframe tbody tr th:only-of-type {\n",
       "        vertical-align: middle;\n",
       "    }\n",
       "\n",
       "    .dataframe tbody tr th {\n",
       "        vertical-align: top;\n",
       "    }\n",
       "\n",
       "    .dataframe thead th {\n",
       "        text-align: right;\n",
       "    }\n",
       "</style>\n",
       "<table border=\"1\" class=\"dataframe\">\n",
       "  <thead>\n",
       "    <tr style=\"text-align: right;\">\n",
       "      <th></th>\n",
       "      <th>0</th>\n",
       "    </tr>\n",
       "  </thead>\n",
       "  <tbody>\n",
       "    <tr>\n",
       "      <th>2020-01-31</th>\n",
       "      <td>2</td>\n",
       "    </tr>\n",
       "    <tr>\n",
       "      <th>2020-02-01</th>\n",
       "      <td>2</td>\n",
       "    </tr>\n",
       "    <tr>\n",
       "      <th>2020-02-02</th>\n",
       "      <td>2</td>\n",
       "    </tr>\n",
       "    <tr>\n",
       "      <th>2020-02-03</th>\n",
       "      <td>8</td>\n",
       "    </tr>\n",
       "    <tr>\n",
       "      <th>2020-02-04</th>\n",
       "      <td>8</td>\n",
       "    </tr>\n",
       "  </tbody>\n",
       "</table>\n",
       "</div>"
      ],
      "text/plain": [
       "            0\n",
       "2020-01-31  2\n",
       "2020-02-01  2\n",
       "2020-02-02  2\n",
       "2020-02-03  8\n",
       "2020-02-04  8"
      ]
     },
     "execution_count": 11,
     "metadata": {},
     "output_type": "execute_result"
    }
   ],
   "source": [
    "#change to datetime\n",
    "dformat = '%m/%d/%y'\n",
    "df.index = pd.DatetimeIndex(pd.to_datetime(df.index, format=dformat))\n",
    "df.head()"
   ]
  },
  {
   "cell_type": "code",
   "execution_count": 12,
   "metadata": {},
   "outputs": [
    {
     "data": {
      "text/html": [
       "<div>\n",
       "<style scoped>\n",
       "    .dataframe tbody tr th:only-of-type {\n",
       "        vertical-align: middle;\n",
       "    }\n",
       "\n",
       "    .dataframe tbody tr th {\n",
       "        vertical-align: top;\n",
       "    }\n",
       "\n",
       "    .dataframe thead th {\n",
       "        text-align: right;\n",
       "    }\n",
       "</style>\n",
       "<table border=\"1\" class=\"dataframe\">\n",
       "  <thead>\n",
       "    <tr style=\"text-align: right;\">\n",
       "      <th></th>\n",
       "      <th>ds</th>\n",
       "      <th>y</th>\n",
       "    </tr>\n",
       "  </thead>\n",
       "  <tbody>\n",
       "    <tr>\n",
       "      <th>0</th>\n",
       "      <td>2020-01-31</td>\n",
       "      <td>2</td>\n",
       "    </tr>\n",
       "    <tr>\n",
       "      <th>1</th>\n",
       "      <td>2020-02-01</td>\n",
       "      <td>2</td>\n",
       "    </tr>\n",
       "    <tr>\n",
       "      <th>2</th>\n",
       "      <td>2020-02-02</td>\n",
       "      <td>2</td>\n",
       "    </tr>\n",
       "    <tr>\n",
       "      <th>3</th>\n",
       "      <td>2020-02-03</td>\n",
       "      <td>8</td>\n",
       "    </tr>\n",
       "    <tr>\n",
       "      <th>4</th>\n",
       "      <td>2020-02-04</td>\n",
       "      <td>8</td>\n",
       "    </tr>\n",
       "  </tbody>\n",
       "</table>\n",
       "</div>"
      ],
      "text/plain": [
       "          ds  y\n",
       "0 2020-01-31  2\n",
       "1 2020-02-01  2\n",
       "2 2020-02-02  2\n",
       "3 2020-02-03  8\n",
       "4 2020-02-04  8"
      ]
     },
     "execution_count": 12,
     "metadata": {},
     "output_type": "execute_result"
    }
   ],
   "source": [
    "#prepare for Prophet\n",
    "df.reset_index(inplace=True)\n",
    "df.rename(columns={'index':'ds', 0:'y'},inplace=True)\n",
    "df.head()"
   ]
  },
  {
   "cell_type": "markdown",
   "metadata": {},
   "source": [
    "# Data visualization"
   ]
  },
  {
   "cell_type": "code",
   "execution_count": 13,
   "metadata": {},
   "outputs": [
    {
     "data": {
      "image/png": "[encoded data removed]",
      "text/plain": [
       "<Figure size 864x432 with 1 Axes>"
      ]
     },
     "metadata": {
      "needs_background": "light"
     },
     "output_type": "display_data"
    }
   ],
   "source": [
    "#plot number of cases accross time\n",
    "ax = df.plot(x='ds', y='y',figsize=(12,6), title='Covid-19 daily cases in UK')\n",
    "ax.autoscale(axis='both',tight=True)\n",
    "ax.set(xlabel='Date',ylabel='Cases');"
   ]
  },
  {
   "cell_type": "markdown",
   "metadata": {},
   "source": [
    "# Model training"
   ]
  },
  {
   "cell_type": "code",
   "execution_count": 14,
   "metadata": {},
   "outputs": [
    {
     "name": "stdout",
     "output_type": "stream",
     "text": [
      "training data length 163 test data length 13\n"
     ]
    }
   ],
   "source": [
    "from fbprophet import Prophet\n",
    "#split data into training and test sets\n",
    "train_to_index = round(len(df) * .925) #7.5 percent data for testing\n",
    "train_data = df.iloc[:train_to_index]\n",
    "test_data = df.iloc[train_to_index:]\n",
    "print('training data length',len(train_data),'test data length',len(test_data))"
   ]
  },
  {
   "cell_type": "markdown",
   "metadata": {},
   "source": [
    "#### We create an instance of the Prophet model. Since our data plot was showing an exponential trend, i.e., the general tendency of the data to increase during a period, we set the input arguments seasonality_mode=’multiplicative’ and growth =’linear.’ And since our data is on the daily frequency, we set daily_seasonality=True. The tuning parameter changepoint_prior_scale is set it to 0.5. Next, we train our model on the training set. Furthermore, parameter tuning can be adjusted based on the dataset and problem domain."
   ]
  },
  {
   "cell_type": "markdown",
   "metadata": {},
   "source": [
    "#### A data frame is generated with future dates for forecasting using ‘make_future_dataframe’ with the frequency set to ‘D’ as our data is daily. The length of these dates is set to the same length as the test set, as we are going to be comparing the results later on for model evaluation. The data frame is then passed to our model to predict the values for these dates."
   ]
  },
  {
   "cell_type": "code",
   "execution_count": 15,
   "metadata": {},
   "outputs": [
    {
     "name": "stderr",
     "output_type": "stream",
     "text": [
      "INFO:fbprophet:Disabling yearly seasonality. Run prophet with yearly_seasonality=True to override this.\n"
     ]
    },
    {
     "data": {
      "text/plain": [
       "<fbprophet.forecaster.Prophet at 0x11dc487f0>"
      ]
     },
     "execution_count": 15,
     "metadata": {},
     "output_type": "execute_result"
    }
   ],
   "source": [
    "#create model and train on training set\n",
    "model = Prophet(growth ='linear',\n",
    "seasonality_mode='multiplicative',\n",
    "changepoint_prior_scale=0.5,\n",
    "weekly_seasonality=False,\n",
    "daily_seasonality=True)\n",
    "model.fit(train_data)"
   ]
  },
  {
   "cell_type": "code",
   "execution_count": 16,
   "metadata": {},
   "outputs": [],
   "source": [
    "#generate a dataframe with future dates, frequency is set to daily\n",
    "future = model.make_future_dataframe(periods=len(test_data),freq='D')"
   ]
  },
  {
   "cell_type": "code",
   "execution_count": 17,
   "metadata": {},
   "outputs": [],
   "source": [
    "#predict values for future dates\n",
    "forecast = model.predict(future)"
   ]
  },
  {
   "cell_type": "markdown",
   "metadata": {},
   "source": [
    "# Plotting model results"
   ]
  },
  {
   "cell_type": "markdown",
   "metadata": {},
   "source": [
    "Now that our model is trained, we need to visualize the results. Prophet has a plotting functionality termed plot which draws the original data (black dots), the model (blue line), and the error of the forecast (shaded blue area)."
   ]
  },
  {
   "cell_type": "code",
   "execution_count": 18,
   "metadata": {},
   "outputs": [
    {
     "data": {
      "image/png": "[encoded data removed]",
      "text/plain": [
       "<Figure size 720x432 with 1 Axes>"
      ]
     },
     "metadata": {},
     "output_type": "display_data"
    }
   ],
   "source": [
    "#plot model results\n",
    "model.plot(forecast);"
   ]
  },
  {
   "cell_type": "markdown",
   "metadata": {},
   "source": [
    "# Model evaluation\n"
   ]
  },
  {
   "cell_type": "markdown",
   "metadata": {},
   "source": [
    "To help us understand the accuracy of our forecasts, we compare the predicted number of cases to the real number of cases for the time series. To do this, we need to build a combined data frame with ‘yhat’ from the forecasts and the original ‘y’ values from the data.\n"
   ]
  },
  {
   "cell_type": "code",
   "execution_count": 19,
   "metadata": {},
   "outputs": [
    {
     "data": {
      "text/html": [
       "<div>\n",
       "<style scoped>\n",
       "    .dataframe tbody tr th:only-of-type {\n",
       "        vertical-align: middle;\n",
       "    }\n",
       "\n",
       "    .dataframe tbody tr th {\n",
       "        vertical-align: top;\n",
       "    }\n",
       "\n",
       "    .dataframe thead th {\n",
       "        text-align: right;\n",
       "    }\n",
       "</style>\n",
       "<table border=\"1\" class=\"dataframe\">\n",
       "  <thead>\n",
       "    <tr style=\"text-align: right;\">\n",
       "      <th></th>\n",
       "      <th>ds</th>\n",
       "      <th>yhat</th>\n",
       "      <th>y</th>\n",
       "    </tr>\n",
       "  </thead>\n",
       "  <tbody>\n",
       "    <tr>\n",
       "      <th>171</th>\n",
       "      <td>2020-07-20</td>\n",
       "      <td>298122.919443</td>\n",
       "      <td>296944</td>\n",
       "    </tr>\n",
       "    <tr>\n",
       "      <th>172</th>\n",
       "      <td>2020-07-21</td>\n",
       "      <td>298816.599309</td>\n",
       "      <td>297389</td>\n",
       "    </tr>\n",
       "    <tr>\n",
       "      <th>173</th>\n",
       "      <td>2020-07-22</td>\n",
       "      <td>299510.279174</td>\n",
       "      <td>297952</td>\n",
       "    </tr>\n",
       "    <tr>\n",
       "      <th>174</th>\n",
       "      <td>2020-07-23</td>\n",
       "      <td>300203.959039</td>\n",
       "      <td>298731</td>\n",
       "    </tr>\n",
       "    <tr>\n",
       "      <th>175</th>\n",
       "      <td>2020-07-24</td>\n",
       "      <td>300897.638905</td>\n",
       "      <td>299500</td>\n",
       "    </tr>\n",
       "  </tbody>\n",
       "</table>\n",
       "</div>"
      ],
      "text/plain": [
       "            ds           yhat       y\n",
       "171 2020-07-20  298122.919443  296944\n",
       "172 2020-07-21  298816.599309  297389\n",
       "173 2020-07-22  299510.279174  297952\n",
       "174 2020-07-23  300203.959039  298731\n",
       "175 2020-07-24  300897.638905  299500"
      ]
     },
     "execution_count": 19,
     "metadata": {},
     "output_type": "execute_result"
    }
   ],
   "source": [
    "#generate combined dataframe\n",
    "metric_df = forecast.set_index('ds')[['yhat']].join(df.set_index('ds').y).reset_index()\n",
    "metric_df.tail()"
   ]
  },
  {
   "cell_type": "markdown",
   "metadata": {},
   "source": [
    "Now that we have our forecasted values against real values, we use r2_score() from sci-kit-learn to generate our R-Squared. The coefficient of determination (denoted by R2) is interpreted as the proportion of the variance in the dependent variable that is predictable from the independent variable."
   ]
  },
  {
   "cell_type": "code",
   "execution_count": 20,
   "metadata": {},
   "outputs": [
    {
     "data": {
      "text/plain": [
       "0.9999576694878322"
      ]
     },
     "execution_count": 20,
     "metadata": {},
     "output_type": "execute_result"
    }
   ],
   "source": [
    "from sklearn.metrics import r2_score\n",
    "r2_score(metric_df.y, metric_df.yhat)"
   ]
  },
  {
   "cell_type": "markdown",
   "metadata": {},
   "source": [
    "The best possible score is 1.0, so the value of 0.99 is very good for our model."
   ]
  },
  {
   "cell_type": "markdown",
   "metadata": {},
   "source": [
    "Furthermore, we use mean_squared_error() from scikit-learn for evaluating our results. Mean squared error (MSE) is the summation of squares of all (predicted — actual values) divided by the number of data points. The MSE is a measure of the quality of an estimator. The smaller the MSE, the closer we are to finding the line of best fit. Our MSE value is 607816, which is pretty large and means that there is still room for further improvement using hyperparameter tuning on the model or more data to get better results."
   ]
  },
  {
   "cell_type": "code",
   "execution_count": 21,
   "metadata": {},
   "outputs": [
    {
     "data": {
      "text/plain": [
       "607816.5656317542"
      ]
     },
     "execution_count": 21,
     "metadata": {},
     "output_type": "execute_result"
    }
   ],
   "source": [
    "from sklearn.metrics import mean_squared_error\n",
    "mean_squared_error(metric_df.y, metric_df.yhat)"
   ]
  },
  {
   "cell_type": "markdown",
   "metadata": {},
   "source": [
    "# Forecasting future dates"
   ]
  },
  {
   "cell_type": "markdown",
   "metadata": {},
   "source": [
    "In the previous sections, we evaluated our model on a forecast of the test data dates that we already have. Now we need to build some future dates to forecast into. To forecast this future data, we generate a data frame with 15 future days, then we run it through Prophet’s model ‘predict’ function, and we display the results."
   ]
  },
  {
   "cell_type": "code",
   "execution_count": 22,
   "metadata": {},
   "outputs": [],
   "source": [
    "#generate a dataframe with future dates, frequency is set to daily\n",
    "future = model.make_future_dataframe(periods=15, freq = 'D')"
   ]
  },
  {
   "cell_type": "code",
   "execution_count": 23,
   "metadata": {},
   "outputs": [],
   "source": [
    "#predict values for future dates\n",
    "forecast = model.predict(future)"
   ]
  },
  {
   "cell_type": "code",
   "execution_count": 24,
   "metadata": {},
   "outputs": [
    {
     "data": {
      "text/html": [
       "<div>\n",
       "<style scoped>\n",
       "    .dataframe tbody tr th:only-of-type {\n",
       "        vertical-align: middle;\n",
       "    }\n",
       "\n",
       "    .dataframe tbody tr th {\n",
       "        vertical-align: top;\n",
       "    }\n",
       "\n",
       "    .dataframe thead th {\n",
       "        text-align: right;\n",
       "    }\n",
       "</style>\n",
       "<table border=\"1\" class=\"dataframe\">\n",
       "  <thead>\n",
       "    <tr style=\"text-align: right;\">\n",
       "      <th></th>\n",
       "      <th>ds</th>\n",
       "      <th>yhat</th>\n",
       "      <th>yhat_lower</th>\n",
       "      <th>yhat_upper</th>\n",
       "    </tr>\n",
       "  </thead>\n",
       "  <tbody>\n",
       "    <tr>\n",
       "      <th>168</th>\n",
       "      <td>2020-07-17</td>\n",
       "      <td>296041.879847</td>\n",
       "      <td>294208.175859</td>\n",
       "      <td>297987.429848</td>\n",
       "    </tr>\n",
       "    <tr>\n",
       "      <th>169</th>\n",
       "      <td>2020-07-18</td>\n",
       "      <td>296735.559713</td>\n",
       "      <td>294402.550671</td>\n",
       "      <td>299341.680846</td>\n",
       "    </tr>\n",
       "    <tr>\n",
       "      <th>170</th>\n",
       "      <td>2020-07-19</td>\n",
       "      <td>297429.239578</td>\n",
       "      <td>294464.806257</td>\n",
       "      <td>300525.936517</td>\n",
       "    </tr>\n",
       "    <tr>\n",
       "      <th>171</th>\n",
       "      <td>2020-07-20</td>\n",
       "      <td>298122.919443</td>\n",
       "      <td>294508.169073</td>\n",
       "      <td>301874.517924</td>\n",
       "    </tr>\n",
       "    <tr>\n",
       "      <th>172</th>\n",
       "      <td>2020-07-21</td>\n",
       "      <td>298816.599309</td>\n",
       "      <td>294357.111196</td>\n",
       "      <td>303436.156150</td>\n",
       "    </tr>\n",
       "    <tr>\n",
       "      <th>173</th>\n",
       "      <td>2020-07-22</td>\n",
       "      <td>299510.279174</td>\n",
       "      <td>294324.649784</td>\n",
       "      <td>304998.697547</td>\n",
       "    </tr>\n",
       "    <tr>\n",
       "      <th>174</th>\n",
       "      <td>2020-07-23</td>\n",
       "      <td>300203.959039</td>\n",
       "      <td>293723.589819</td>\n",
       "      <td>306307.488934</td>\n",
       "    </tr>\n",
       "    <tr>\n",
       "      <th>175</th>\n",
       "      <td>2020-07-24</td>\n",
       "      <td>300897.638905</td>\n",
       "      <td>293810.921162</td>\n",
       "      <td>308135.505416</td>\n",
       "    </tr>\n",
       "    <tr>\n",
       "      <th>176</th>\n",
       "      <td>2020-07-25</td>\n",
       "      <td>301591.318770</td>\n",
       "      <td>293730.453909</td>\n",
       "      <td>309623.115995</td>\n",
       "    </tr>\n",
       "    <tr>\n",
       "      <th>177</th>\n",
       "      <td>2020-07-26</td>\n",
       "      <td>302284.998635</td>\n",
       "      <td>293358.990887</td>\n",
       "      <td>311018.111259</td>\n",
       "    </tr>\n",
       "  </tbody>\n",
       "</table>\n",
       "</div>"
      ],
      "text/plain": [
       "            ds           yhat     yhat_lower     yhat_upper\n",
       "168 2020-07-17  296041.879847  294208.175859  297987.429848\n",
       "169 2020-07-18  296735.559713  294402.550671  299341.680846\n",
       "170 2020-07-19  297429.239578  294464.806257  300525.936517\n",
       "171 2020-07-20  298122.919443  294508.169073  301874.517924\n",
       "172 2020-07-21  298816.599309  294357.111196  303436.156150\n",
       "173 2020-07-22  299510.279174  294324.649784  304998.697547\n",
       "174 2020-07-23  300203.959039  293723.589819  306307.488934\n",
       "175 2020-07-24  300897.638905  293810.921162  308135.505416\n",
       "176 2020-07-25  301591.318770  293730.453909  309623.115995\n",
       "177 2020-07-26  302284.998635  293358.990887  311018.111259"
      ]
     },
     "execution_count": 24,
     "metadata": {},
     "output_type": "execute_result"
    }
   ],
   "source": [
    "#print only required columns ds, yhat, yhat_lower, yhat_upper\n",
    "forecast[['ds', 'yhat', 'yhat_lower', 'yhat_upper']].tail(10)"
   ]
  },
  {
   "cell_type": "markdown",
   "metadata": {},
   "source": [
    "# Conclusion"
   ]
  },
  {
   "cell_type": "markdown",
   "metadata": {},
   "source": [
    "We have explained how to do time series forecasting with Prophet using data from Coronavirus (Covid19) Johns Hopkins University Center. We went through loading the data, preparing the data for the Prophet model, plotting the data, training the model, plotting model results, model evaluation, and forecasting future dates. We note that it is impossible to come up with a general approach for all forecasting problems, as each problem has its own distinctions and requires special steps. However, this article was meant to give a basic guideline and understanding about time series forecasting that can be further modified according to the problem domain."
   ]
  },
  {
   "cell_type": "markdown",
   "metadata": {},
   "source": [
    "# References and further reading"
   ]
  },
  {
   "cell_type": "markdown",
   "metadata": {},
   "source": [
    "[1] https://github.com/CSSEGISandData/COVID-19\n",
    "\n",
    "[2] https://facebook.github.io/prophet/docs/quick_start.html\n",
    "\n",
    "[3] https://nextjournal.com/eric-brown/forecasting-with-prophet\n",
    "\n",
    "[4] https://nextjournal.com/eric-brown/forecasting-with-prophet-part-4\n",
    "\n",
    "[5] https://towardsdatascience.com/implementing-facebook-prophet-efficiently-c241305405a3"
   ]
  },
  {
   "cell_type": "code",
   "execution_count": null,
   "metadata": {},
   "outputs": [],
   "source": []
  }
 ],
 "metadata": {
  "kernelspec": {
   "display_name": "env_ml",
   "language": "python",
   "name": "env_ml"
  },
  "language_info": {
   "codemirror_mode": {
    "name": "ipython",
    "version": 3
   },
   "file_extension": ".py",
   "mimetype": "text/x-python",
   "name": "python",
   "nbconvert_exporter": "python",
   "pygments_lexer": "ipython3",
   "version": "3.8.5"
  }
 },
 "nbformat": 4,
 "nbformat_minor": 4
}
