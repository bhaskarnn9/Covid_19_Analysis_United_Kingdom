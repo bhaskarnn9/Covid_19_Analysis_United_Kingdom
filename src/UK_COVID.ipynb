{
 "cells": [
  {
   "cell_type": "markdown",
   "metadata": {},
   "source": [
    "## Run Setup"
   ]
  },
  {
   "cell_type": "code",
   "execution_count": 1,
   "metadata": {},
   "outputs": [],
   "source": [
    "## check the current working directory\n",
    "import os\n",
    "os.chdir(\"../\")\n",
    "project_dir = os.getcwd()\n",
    "project_dir"
   ]
  },
  {
   "cell_type": "markdown",
   "metadata": {},
   "source": [
    "## Import libraries"
   ]
  },
  {
   "cell_type": "code",
   "execution_count": 2,
   "metadata": {},
   "outputs": [
    {
     "data": {
      "text/html": [
       "        <script type=\"text/javascript\">\n",
       "        window.PlotlyConfig = {MathJaxConfig: 'local'};\n",
       "        if (window.MathJax) {MathJax.Hub.Config({SVG: {font: \"STIX-Web\"}});}\n",
       "        if (typeof require !== 'undefined') {\n",
       "        require.undef(\"plotly\");\n",
       "        requirejs.config({\n",
       "            paths: {\n",
       "                'plotly': ['https://cdn.plot.ly/plotly-latest.min']\n",
       "            }\n",
       "        });\n",
       "        require(['plotly'], function(Plotly) {\n",
       "            window._Plotly = Plotly;\n",
       "        });\n",
       "        }\n",
       "        </script>\n",
       "        "
      ]
     },
     "metadata": {},
     "output_type": "display_data"
    }
   ],
   "source": [
    "import pandas as pd\n",
    "import altair as alt\n",
    "import streamlit as st\n",
    "import matplotlib.pyplot as plt\n",
    "\n",
    "# interactive visualization\n",
    "import plotly.express as px\n",
    "import plotly.graph_objs as go\n",
    "# import plotly.figure_factory as ff\n",
    "from plotly.subplots import make_subplots\n",
    "\n",
    "# for offline ploting\n",
    "from plotly.offline import plot, iplot, init_notebook_mode\n",
    "init_notebook_mode(connected=True)\n",
    "\n",
    "# hide warnings\n",
    "import warnings\n",
    "warnings.filterwarnings('ignore')"
   ]
  },
  {
   "cell_type": "markdown",
   "metadata": {},
   "source": [
    "## Define necessary functions"
   ]
  },
  {
   "cell_type": "code",
   "execution_count": 3,
   "metadata": {},
   "outputs": [],
   "source": [
    "# get name of dataframe (which is required)\n",
    "def get_df_name(df):\n",
    "    name =[x for x in globals() if globals()[x] is df][0]\n",
    "    return name\n",
    "\n",
    "# get shape of dataframe\n",
    "def print_shape(df):\n",
    "    df_name = get_df_name(df)\n",
    "    print(f'shape of the df({df_name}):', df.shape)\n",
    "\n",
    "# change names in the dataframe    \n",
    "def change_cols(df):\n",
    "    cols = df.columns.to_list()\n",
    "    cols = list(map(lambda x: x.replace(' ', '_').replace('-', '_'), cols))\n",
    "    df.columns = cols\n",
    "    return df\n"
   ]
  },
  {
   "cell_type": "markdown",
   "metadata": {},
   "source": [
    "## COVID-19 Data for UK\n",
    "\n",
    "## UK does not have any States/Provinces but directly has Countries/Districts\n",
    "\n",
    "##### Data Source: https://coronavirus.data.gov.uk/\n",
    "\n",
    "##### We have 2 csv files\n",
    "1. Cases - data of registered cases\n",
    "2. Deaths - data of deceased"
   ]
  },
  {
   "cell_type": "markdown",
   "metadata": {},
   "source": [
    "## Read Data"
   ]
  },
  {
   "cell_type": "code",
   "execution_count": 4,
   "metadata": {},
   "outputs": [],
   "source": [
    "df_cases = pd.read_csv(project_dir+'/datasets/coronavirus_cases_latest.csv', parse_dates=['Specimen date'])"
   ]
  },
  {
   "cell_type": "markdown",
   "metadata": {},
   "source": [
    "## Understand Data"
   ]
  },
  {
   "cell_type": "code",
   "execution_count": 5,
   "metadata": {},
   "outputs": [
    {
     "name": "stdout",
     "output_type": "stream",
     "text": [
      "shape of the df(df_cases): (52781, 11)\n"
     ]
    }
   ],
   "source": [
    "print_shape(df_cases)"
   ]
  },
  {
   "cell_type": "code",
   "execution_count": 6,
   "metadata": {},
   "outputs": [
    {
     "data": {
      "text/html": [
       "<div>\n",
       "<style scoped>\n",
       "    .dataframe tbody tr th:only-of-type {\n",
       "        vertical-align: middle;\n",
       "    }\n",
       "\n",
       "    .dataframe tbody tr th {\n",
       "        vertical-align: top;\n",
       "    }\n",
       "\n",
       "    .dataframe thead th {\n",
       "        text-align: right;\n",
       "    }\n",
       "</style>\n",
       "<table border=\"1\" class=\"dataframe\">\n",
       "  <thead>\n",
       "    <tr style=\"text-align: right;\">\n",
       "      <th></th>\n",
       "      <th>Area name</th>\n",
       "      <th>Area code</th>\n",
       "      <th>Area type</th>\n",
       "      <th>Specimen date</th>\n",
       "      <th>Daily lab-confirmed cases</th>\n",
       "      <th>Previously reported daily cases</th>\n",
       "      <th>Change in daily cases</th>\n",
       "      <th>Cumulative lab-confirmed cases</th>\n",
       "      <th>Previously reported cumulative cases</th>\n",
       "      <th>Change in cumulative cases</th>\n",
       "      <th>Cumulative lab-confirmed cases rate</th>\n",
       "    </tr>\n",
       "  </thead>\n",
       "  <tbody>\n",
       "    <tr>\n",
       "      <th>0</th>\n",
       "      <td>England</td>\n",
       "      <td>E92000001</td>\n",
       "      <td>Nation</td>\n",
       "      <td>2020-07-23</td>\n",
       "      <td>0</td>\n",
       "      <td>0.0</td>\n",
       "      <td>0.0</td>\n",
       "      <td>255740</td>\n",
       "      <td>255038.0</td>\n",
       "      <td>702.0</td>\n",
       "      <td>456.9</td>\n",
       "    </tr>\n",
       "    <tr>\n",
       "      <th>1</th>\n",
       "      <td>South West</td>\n",
       "      <td>E12000009</td>\n",
       "      <td>Region</td>\n",
       "      <td>2020-07-23</td>\n",
       "      <td>0</td>\n",
       "      <td>NaN</td>\n",
       "      <td>NaN</td>\n",
       "      <td>13020</td>\n",
       "      <td>NaN</td>\n",
       "      <td>NaN</td>\n",
       "      <td>232.5</td>\n",
       "    </tr>\n",
       "    <tr>\n",
       "      <th>2</th>\n",
       "      <td>South East</td>\n",
       "      <td>E12000008</td>\n",
       "      <td>Region</td>\n",
       "      <td>2020-07-23</td>\n",
       "      <td>0</td>\n",
       "      <td>NaN</td>\n",
       "      <td>NaN</td>\n",
       "      <td>34873</td>\n",
       "      <td>NaN</td>\n",
       "      <td>NaN</td>\n",
       "      <td>381.8</td>\n",
       "    </tr>\n",
       "    <tr>\n",
       "      <th>3</th>\n",
       "      <td>London</td>\n",
       "      <td>E12000007</td>\n",
       "      <td>Region</td>\n",
       "      <td>2020-07-23</td>\n",
       "      <td>0</td>\n",
       "      <td>NaN</td>\n",
       "      <td>NaN</td>\n",
       "      <td>34791</td>\n",
       "      <td>NaN</td>\n",
       "      <td>NaN</td>\n",
       "      <td>390.6</td>\n",
       "    </tr>\n",
       "    <tr>\n",
       "      <th>4</th>\n",
       "      <td>East of England</td>\n",
       "      <td>E12000006</td>\n",
       "      <td>Region</td>\n",
       "      <td>2020-07-23</td>\n",
       "      <td>0</td>\n",
       "      <td>NaN</td>\n",
       "      <td>NaN</td>\n",
       "      <td>24337</td>\n",
       "      <td>NaN</td>\n",
       "      <td>NaN</td>\n",
       "      <td>392.5</td>\n",
       "    </tr>\n",
       "  </tbody>\n",
       "</table>\n",
       "</div>"
      ],
      "text/plain": [
       "         Area name  Area code Area type Specimen date  \\\n",
       "0          England  E92000001    Nation    2020-07-23   \n",
       "1       South West  E12000009    Region    2020-07-23   \n",
       "2       South East  E12000008    Region    2020-07-23   \n",
       "3           London  E12000007    Region    2020-07-23   \n",
       "4  East of England  E12000006    Region    2020-07-23   \n",
       "\n",
       "   Daily lab-confirmed cases  Previously reported daily cases  \\\n",
       "0                          0                              0.0   \n",
       "1                          0                              NaN   \n",
       "2                          0                              NaN   \n",
       "3                          0                              NaN   \n",
       "4                          0                              NaN   \n",
       "\n",
       "   Change in daily cases  Cumulative lab-confirmed cases  \\\n",
       "0                    0.0                          255740   \n",
       "1                    NaN                           13020   \n",
       "2                    NaN                           34873   \n",
       "3                    NaN                           34791   \n",
       "4                    NaN                           24337   \n",
       "\n",
       "   Previously reported cumulative cases  Change in cumulative cases  \\\n",
       "0                              255038.0                       702.0   \n",
       "1                                   NaN                         NaN   \n",
       "2                                   NaN                         NaN   \n",
       "3                                   NaN                         NaN   \n",
       "4                                   NaN                         NaN   \n",
       "\n",
       "   Cumulative lab-confirmed cases rate  \n",
       "0                                456.9  \n",
       "1                                232.5  \n",
       "2                                381.8  \n",
       "3                                390.6  \n",
       "4                                392.5  "
      ]
     },
     "execution_count": 6,
     "metadata": {},
     "output_type": "execute_result"
    }
   ],
   "source": [
    "df_cases.head()"
   ]
  },
  {
   "cell_type": "code",
   "execution_count": 7,
   "metadata": {},
   "outputs": [],
   "source": [
    "df_cases = change_cols(df_cases)"
   ]
  },
  {
   "cell_type": "code",
   "execution_count": 8,
   "metadata": {},
   "outputs": [
    {
     "data": {
      "text/html": [
       "<div>\n",
       "<style scoped>\n",
       "    .dataframe tbody tr th:only-of-type {\n",
       "        vertical-align: middle;\n",
       "    }\n",
       "\n",
       "    .dataframe tbody tr th {\n",
       "        vertical-align: top;\n",
       "    }\n",
       "\n",
       "    .dataframe thead th {\n",
       "        text-align: right;\n",
       "    }\n",
       "</style>\n",
       "<table border=\"1\" class=\"dataframe\">\n",
       "  <thead>\n",
       "    <tr style=\"text-align: right;\">\n",
       "      <th></th>\n",
       "      <th>Area_name</th>\n",
       "      <th>Area_code</th>\n",
       "      <th>Area_type</th>\n",
       "      <th>Specimen_date</th>\n",
       "      <th>Daily_lab_confirmed_cases</th>\n",
       "      <th>Previously_reported_daily_cases</th>\n",
       "      <th>Change_in_daily_cases</th>\n",
       "      <th>Cumulative_lab_confirmed_cases</th>\n",
       "      <th>Previously_reported_cumulative_cases</th>\n",
       "      <th>Change_in_cumulative_cases</th>\n",
       "      <th>Cumulative_lab_confirmed_cases_rate</th>\n",
       "    </tr>\n",
       "  </thead>\n",
       "  <tbody>\n",
       "    <tr>\n",
       "      <th>52780</th>\n",
       "      <td>York</td>\n",
       "      <td>E06000014</td>\n",
       "      <td>Lower tier local authority</td>\n",
       "      <td>2020-01-30</td>\n",
       "      <td>1</td>\n",
       "      <td>NaN</td>\n",
       "      <td>NaN</td>\n",
       "      <td>1</td>\n",
       "      <td>NaN</td>\n",
       "      <td>NaN</td>\n",
       "      <td>0.5</td>\n",
       "    </tr>\n",
       "    <tr>\n",
       "      <th>52777</th>\n",
       "      <td>England</td>\n",
       "      <td>E92000001</td>\n",
       "      <td>Nation</td>\n",
       "      <td>2020-01-30</td>\n",
       "      <td>2</td>\n",
       "      <td>2.0</td>\n",
       "      <td>0.0</td>\n",
       "      <td>2</td>\n",
       "      <td>2.0</td>\n",
       "      <td>0.0</td>\n",
       "      <td>0.0</td>\n",
       "    </tr>\n",
       "    <tr>\n",
       "      <th>52779</th>\n",
       "      <td>York</td>\n",
       "      <td>E06000014</td>\n",
       "      <td>Upper tier local authority</td>\n",
       "      <td>2020-01-30</td>\n",
       "      <td>1</td>\n",
       "      <td>NaN</td>\n",
       "      <td>NaN</td>\n",
       "      <td>1</td>\n",
       "      <td>NaN</td>\n",
       "      <td>NaN</td>\n",
       "      <td>0.5</td>\n",
       "    </tr>\n",
       "    <tr>\n",
       "      <th>52778</th>\n",
       "      <td>Yorkshire and The Humber</td>\n",
       "      <td>E12000003</td>\n",
       "      <td>Region</td>\n",
       "      <td>2020-01-30</td>\n",
       "      <td>1</td>\n",
       "      <td>NaN</td>\n",
       "      <td>NaN</td>\n",
       "      <td>1</td>\n",
       "      <td>NaN</td>\n",
       "      <td>NaN</td>\n",
       "      <td>0.0</td>\n",
       "    </tr>\n",
       "    <tr>\n",
       "      <th>52776</th>\n",
       "      <td>Chiltern</td>\n",
       "      <td>E07000005</td>\n",
       "      <td>Lower tier local authority</td>\n",
       "      <td>2020-02-03</td>\n",
       "      <td>1</td>\n",
       "      <td>NaN</td>\n",
       "      <td>NaN</td>\n",
       "      <td>1</td>\n",
       "      <td>NaN</td>\n",
       "      <td>NaN</td>\n",
       "      <td>1.0</td>\n",
       "    </tr>\n",
       "  </tbody>\n",
       "</table>\n",
       "</div>"
      ],
      "text/plain": [
       "                      Area_name  Area_code                   Area_type  \\\n",
       "52780                      York  E06000014  Lower tier local authority   \n",
       "52777                   England  E92000001                      Nation   \n",
       "52779                      York  E06000014  Upper tier local authority   \n",
       "52778  Yorkshire and The Humber  E12000003                      Region   \n",
       "52776                  Chiltern  E07000005  Lower tier local authority   \n",
       "\n",
       "      Specimen_date  Daily_lab_confirmed_cases  \\\n",
       "52780    2020-01-30                          1   \n",
       "52777    2020-01-30                          2   \n",
       "52779    2020-01-30                          1   \n",
       "52778    2020-01-30                          1   \n",
       "52776    2020-02-03                          1   \n",
       "\n",
       "       Previously_reported_daily_cases  Change_in_daily_cases  \\\n",
       "52780                              NaN                    NaN   \n",
       "52777                              2.0                    0.0   \n",
       "52779                              NaN                    NaN   \n",
       "52778                              NaN                    NaN   \n",
       "52776                              NaN                    NaN   \n",
       "\n",
       "       Cumulative_lab_confirmed_cases  Previously_reported_cumulative_cases  \\\n",
       "52780                               1                                   NaN   \n",
       "52777                               2                                   2.0   \n",
       "52779                               1                                   NaN   \n",
       "52778                               1                                   NaN   \n",
       "52776                               1                                   NaN   \n",
       "\n",
       "       Change_in_cumulative_cases  Cumulative_lab_confirmed_cases_rate  \n",
       "52780                         NaN                                  0.5  \n",
       "52777                         0.0                                  0.0  \n",
       "52779                         NaN                                  0.5  \n",
       "52778                         NaN                                  0.0  \n",
       "52776                         NaN                                  1.0  "
      ]
     },
     "execution_count": 8,
     "metadata": {},
     "output_type": "execute_result"
    }
   ],
   "source": [
    "df_cases = df_cases.sort_values(by='Specimen_date')\n",
    "df_cases.head()"
   ]
  },
  {
   "cell_type": "markdown",
   "metadata": {},
   "source": [
    "# Prepare Data"
   ]
  },
  {
   "cell_type": "code",
   "execution_count": 9,
   "metadata": {},
   "outputs": [
    {
     "data": {
      "text/plain": [
       "(52781, 11)"
      ]
     },
     "execution_count": 9,
     "metadata": {},
     "output_type": "execute_result"
    }
   ],
   "source": [
    "df_cases.shape"
   ]
  },
  {
   "cell_type": "code",
   "execution_count": 10,
   "metadata": {},
   "outputs": [
    {
     "data": {
      "text/plain": [
       "Sheffield      282\n",
       "Birmingham     282\n",
       "Manchester     276\n",
       "Leeds          274\n",
       "Liverpool      274\n",
       "              ... \n",
       "Ryedale         63\n",
       "South Hams      50\n",
       "West Devon      44\n",
       "North Devon     40\n",
       "Torridge        34\n",
       "Name: Area_name, Length: 351, dtype: int64"
      ]
     },
     "execution_count": 10,
     "metadata": {},
     "output_type": "execute_result"
    }
   ],
   "source": [
    "df_cases.Area_name.value_counts()"
   ]
  },
  {
   "cell_type": "code",
   "execution_count": 11,
   "metadata": {},
   "outputs": [
    {
     "data": {
      "text/plain": [
       "(38181, 11)"
      ]
     },
     "execution_count": 11,
     "metadata": {},
     "output_type": "execute_result"
    }
   ],
   "source": [
    "## Remove duplicate entries\n",
    "df_cases = df_cases.drop_duplicates(subset=['Specimen_date', 'Area_name'])\n",
    "df_cases = df_cases.reset_index()\n",
    "df_cases.drop('index', axis=1, inplace=True)\n",
    "df_cases.shape"
   ]
  },
  {
   "cell_type": "code",
   "execution_count": 12,
   "metadata": {},
   "outputs": [
    {
     "data": {
      "text/plain": [
       "England                     158\n",
       "South East                  153\n",
       "London                      152\n",
       "East Midlands               149\n",
       "Yorkshire and The Humber    148\n",
       "                           ... \n",
       "Rutland                      60\n",
       "South Hams                   50\n",
       "West Devon                   44\n",
       "North Devon                  40\n",
       "Torridge                     34\n",
       "Name: Area_name, Length: 351, dtype: int64"
      ]
     },
     "execution_count": 12,
     "metadata": {},
     "output_type": "execute_result"
    }
   ],
   "source": [
    "df_cases.Area_name.value_counts()"
   ]
  },
  {
   "cell_type": "code",
   "execution_count": 13,
   "metadata": {},
   "outputs": [
    {
     "data": {
      "text/html": [
       "<div>\n",
       "<style scoped>\n",
       "    .dataframe tbody tr th:only-of-type {\n",
       "        vertical-align: middle;\n",
       "    }\n",
       "\n",
       "    .dataframe tbody tr th {\n",
       "        vertical-align: top;\n",
       "    }\n",
       "\n",
       "    .dataframe thead th {\n",
       "        text-align: right;\n",
       "    }\n",
       "</style>\n",
       "<table border=\"1\" class=\"dataframe\">\n",
       "  <thead>\n",
       "    <tr style=\"text-align: right;\">\n",
       "      <th></th>\n",
       "      <th>Area_name</th>\n",
       "      <th>Area_code</th>\n",
       "      <th>Area_type</th>\n",
       "      <th>Specimen_date</th>\n",
       "      <th>Daily_lab_confirmed_cases</th>\n",
       "      <th>Previously_reported_daily_cases</th>\n",
       "      <th>Change_in_daily_cases</th>\n",
       "      <th>Cumulative_lab_confirmed_cases</th>\n",
       "      <th>Previously_reported_cumulative_cases</th>\n",
       "      <th>Change_in_cumulative_cases</th>\n",
       "      <th>Cumulative_lab_confirmed_cases_rate</th>\n",
       "    </tr>\n",
       "  </thead>\n",
       "  <tbody>\n",
       "    <tr>\n",
       "      <th>0</th>\n",
       "      <td>York</td>\n",
       "      <td>E06000014</td>\n",
       "      <td>Lower tier local authority</td>\n",
       "      <td>2020-01-30</td>\n",
       "      <td>1</td>\n",
       "      <td>NaN</td>\n",
       "      <td>NaN</td>\n",
       "      <td>1</td>\n",
       "      <td>NaN</td>\n",
       "      <td>NaN</td>\n",
       "      <td>0.5</td>\n",
       "    </tr>\n",
       "    <tr>\n",
       "      <th>1</th>\n",
       "      <td>England</td>\n",
       "      <td>E92000001</td>\n",
       "      <td>Nation</td>\n",
       "      <td>2020-01-30</td>\n",
       "      <td>2</td>\n",
       "      <td>2.0</td>\n",
       "      <td>0.0</td>\n",
       "      <td>2</td>\n",
       "      <td>2.0</td>\n",
       "      <td>0.0</td>\n",
       "      <td>0.0</td>\n",
       "    </tr>\n",
       "    <tr>\n",
       "      <th>2</th>\n",
       "      <td>Yorkshire and The Humber</td>\n",
       "      <td>E12000003</td>\n",
       "      <td>Region</td>\n",
       "      <td>2020-01-30</td>\n",
       "      <td>1</td>\n",
       "      <td>NaN</td>\n",
       "      <td>NaN</td>\n",
       "      <td>1</td>\n",
       "      <td>NaN</td>\n",
       "      <td>NaN</td>\n",
       "      <td>0.0</td>\n",
       "    </tr>\n",
       "    <tr>\n",
       "      <th>3</th>\n",
       "      <td>Chiltern</td>\n",
       "      <td>E07000005</td>\n",
       "      <td>Lower tier local authority</td>\n",
       "      <td>2020-02-03</td>\n",
       "      <td>1</td>\n",
       "      <td>NaN</td>\n",
       "      <td>NaN</td>\n",
       "      <td>1</td>\n",
       "      <td>NaN</td>\n",
       "      <td>NaN</td>\n",
       "      <td>1.0</td>\n",
       "    </tr>\n",
       "    <tr>\n",
       "      <th>4</th>\n",
       "      <td>Buckinghamshire</td>\n",
       "      <td>E10000002</td>\n",
       "      <td>Upper tier local authority</td>\n",
       "      <td>2020-02-03</td>\n",
       "      <td>1</td>\n",
       "      <td>NaN</td>\n",
       "      <td>NaN</td>\n",
       "      <td>1</td>\n",
       "      <td>NaN</td>\n",
       "      <td>NaN</td>\n",
       "      <td>0.2</td>\n",
       "    </tr>\n",
       "  </tbody>\n",
       "</table>\n",
       "</div>"
      ],
      "text/plain": [
       "                  Area_name  Area_code                   Area_type  \\\n",
       "0                      York  E06000014  Lower tier local authority   \n",
       "1                   England  E92000001                      Nation   \n",
       "2  Yorkshire and The Humber  E12000003                      Region   \n",
       "3                  Chiltern  E07000005  Lower tier local authority   \n",
       "4           Buckinghamshire  E10000002  Upper tier local authority   \n",
       "\n",
       "  Specimen_date  Daily_lab_confirmed_cases  Previously_reported_daily_cases  \\\n",
       "0    2020-01-30                          1                              NaN   \n",
       "1    2020-01-30                          2                              2.0   \n",
       "2    2020-01-30                          1                              NaN   \n",
       "3    2020-02-03                          1                              NaN   \n",
       "4    2020-02-03                          1                              NaN   \n",
       "\n",
       "   Change_in_daily_cases  Cumulative_lab_confirmed_cases  \\\n",
       "0                    NaN                               1   \n",
       "1                    0.0                               2   \n",
       "2                    NaN                               1   \n",
       "3                    NaN                               1   \n",
       "4                    NaN                               1   \n",
       "\n",
       "   Previously_reported_cumulative_cases  Change_in_cumulative_cases  \\\n",
       "0                                   NaN                         NaN   \n",
       "1                                   2.0                         0.0   \n",
       "2                                   NaN                         NaN   \n",
       "3                                   NaN                         NaN   \n",
       "4                                   NaN                         NaN   \n",
       "\n",
       "   Cumulative_lab_confirmed_cases_rate  \n",
       "0                                  0.5  \n",
       "1                                  0.0  \n",
       "2                                  0.0  \n",
       "3                                  1.0  \n",
       "4                                  0.2  "
      ]
     },
     "execution_count": 13,
     "metadata": {},
     "output_type": "execute_result"
    }
   ],
   "source": [
    "df_cases.head()"
   ]
  },
  {
   "cell_type": "code",
   "execution_count": 14,
   "metadata": {},
   "outputs": [
    {
     "data": {
      "text/plain": [
       "Area_name                                   0\n",
       "Area_code                                   0\n",
       "Area_type                                   0\n",
       "Specimen_date                               0\n",
       "Daily_lab_confirmed_cases                   0\n",
       "Previously_reported_daily_cases         38023\n",
       "Change_in_daily_cases                   38023\n",
       "Cumulative_lab_confirmed_cases              0\n",
       "Previously_reported_cumulative_cases    38023\n",
       "Change_in_cumulative_cases              38023\n",
       "Cumulative_lab_confirmed_cases_rate         0\n",
       "dtype: int64"
      ]
     },
     "execution_count": 14,
     "metadata": {},
     "output_type": "execute_result"
    }
   ],
   "source": [
    "df_cases.isna().sum()"
   ]
  },
  {
   "cell_type": "code",
   "execution_count": 15,
   "metadata": {},
   "outputs": [
    {
     "data": {
      "text/plain": [
       "Area_name                              0\n",
       "Area_code                              0\n",
       "Area_type                              0\n",
       "Specimen_date                          0\n",
       "Daily_lab_confirmed_cases              0\n",
       "Cumulative_lab_confirmed_cases         0\n",
       "Cumulative_lab_confirmed_cases_rate    0\n",
       "dtype: int64"
      ]
     },
     "execution_count": 15,
     "metadata": {},
     "output_type": "execute_result"
    }
   ],
   "source": [
    "df_cases.drop(['Previously_reported_daily_cases', 'Change_in_daily_cases',\n",
    "              'Previously_reported_cumulative_cases', 'Change_in_cumulative_cases'],\n",
    "             axis=1, inplace=True)\n",
    "df_cases.isna().sum()"
   ]
  },
  {
   "cell_type": "code",
   "execution_count": 16,
   "metadata": {},
   "outputs": [
    {
     "data": {
      "text/html": [
       "<div>\n",
       "<style scoped>\n",
       "    .dataframe tbody tr th:only-of-type {\n",
       "        vertical-align: middle;\n",
       "    }\n",
       "\n",
       "    .dataframe tbody tr th {\n",
       "        vertical-align: top;\n",
       "    }\n",
       "\n",
       "    .dataframe thead th {\n",
       "        text-align: right;\n",
       "    }\n",
       "</style>\n",
       "<table border=\"1\" class=\"dataframe\">\n",
       "  <thead>\n",
       "    <tr style=\"text-align: right;\">\n",
       "      <th></th>\n",
       "      <th>Area_name</th>\n",
       "      <th>Area_code</th>\n",
       "      <th>Area_type</th>\n",
       "      <th>Specimen_date</th>\n",
       "      <th>Daily_lab_confirmed_cases</th>\n",
       "      <th>Cumulative_lab_confirmed_cases</th>\n",
       "      <th>Cumulative_lab_confirmed_cases_rate</th>\n",
       "    </tr>\n",
       "  </thead>\n",
       "  <tbody>\n",
       "    <tr>\n",
       "      <th>38176</th>\n",
       "      <td>Epping Forest</td>\n",
       "      <td>E07000072</td>\n",
       "      <td>Lower tier local authority</td>\n",
       "      <td>2020-07-23</td>\n",
       "      <td>0</td>\n",
       "      <td>482</td>\n",
       "      <td>367.6</td>\n",
       "    </tr>\n",
       "    <tr>\n",
       "      <th>38177</th>\n",
       "      <td>Colchester</td>\n",
       "      <td>E07000071</td>\n",
       "      <td>Lower tier local authority</td>\n",
       "      <td>2020-07-23</td>\n",
       "      <td>0</td>\n",
       "      <td>716</td>\n",
       "      <td>371.9</td>\n",
       "    </tr>\n",
       "    <tr>\n",
       "      <th>38178</th>\n",
       "      <td>Chelmsford</td>\n",
       "      <td>E07000070</td>\n",
       "      <td>Lower tier local authority</td>\n",
       "      <td>2020-07-23</td>\n",
       "      <td>0</td>\n",
       "      <td>738</td>\n",
       "      <td>416.8</td>\n",
       "    </tr>\n",
       "    <tr>\n",
       "      <th>38179</th>\n",
       "      <td>Stroud</td>\n",
       "      <td>E07000082</td>\n",
       "      <td>Lower tier local authority</td>\n",
       "      <td>2020-07-23</td>\n",
       "      <td>0</td>\n",
       "      <td>259</td>\n",
       "      <td>217.6</td>\n",
       "    </tr>\n",
       "    <tr>\n",
       "      <th>38180</th>\n",
       "      <td>England</td>\n",
       "      <td>E92000001</td>\n",
       "      <td>Nation</td>\n",
       "      <td>2020-07-23</td>\n",
       "      <td>0</td>\n",
       "      <td>255740</td>\n",
       "      <td>456.9</td>\n",
       "    </tr>\n",
       "  </tbody>\n",
       "</table>\n",
       "</div>"
      ],
      "text/plain": [
       "           Area_name  Area_code                   Area_type Specimen_date  \\\n",
       "38176  Epping Forest  E07000072  Lower tier local authority    2020-07-23   \n",
       "38177     Colchester  E07000071  Lower tier local authority    2020-07-23   \n",
       "38178     Chelmsford  E07000070  Lower tier local authority    2020-07-23   \n",
       "38179         Stroud  E07000082  Lower tier local authority    2020-07-23   \n",
       "38180        England  E92000001                      Nation    2020-07-23   \n",
       "\n",
       "       Daily_lab_confirmed_cases  Cumulative_lab_confirmed_cases  \\\n",
       "38176                          0                             482   \n",
       "38177                          0                             716   \n",
       "38178                          0                             738   \n",
       "38179                          0                             259   \n",
       "38180                          0                          255740   \n",
       "\n",
       "       Cumulative_lab_confirmed_cases_rate  \n",
       "38176                                367.6  \n",
       "38177                                371.9  \n",
       "38178                                416.8  \n",
       "38179                                217.6  \n",
       "38180                                456.9  "
      ]
     },
     "execution_count": 16,
     "metadata": {},
     "output_type": "execute_result"
    }
   ],
   "source": [
    "df_cases.tail()"
   ]
  },
  {
   "cell_type": "code",
   "execution_count": 17,
   "metadata": {},
   "outputs": [],
   "source": [
    "unique_area_names = df_cases.Area_name.unique().tolist()"
   ]
  },
  {
   "cell_type": "code",
   "execution_count": 18,
   "metadata": {},
   "outputs": [
    {
     "data": {
      "text/plain": [
       "'York'"
      ]
     },
     "execution_count": 18,
     "metadata": {},
     "output_type": "execute_result"
    }
   ],
   "source": [
    "unique_area_ = unique_area_names[0]\n",
    "unique_area_"
   ]
  },
  {
   "cell_type": "code",
   "execution_count": 19,
   "metadata": {},
   "outputs": [
    {
     "data": {
      "text/plain": [
       "(118, 7)"
      ]
     },
     "execution_count": 19,
     "metadata": {},
     "output_type": "execute_result"
    }
   ],
   "source": [
    "df_out = pd.DataFrame(columns=df_cases.columns)\n",
    "df_helper = df_cases.loc[df_cases.Area_name==unique_area_]\n",
    "df_helper.shape"
   ]
  },
  {
   "cell_type": "code",
   "execution_count": 20,
   "metadata": {},
   "outputs": [
    {
     "data": {
      "text/html": [
       "<div>\n",
       "<style scoped>\n",
       "    .dataframe tbody tr th:only-of-type {\n",
       "        vertical-align: middle;\n",
       "    }\n",
       "\n",
       "    .dataframe tbody tr th {\n",
       "        vertical-align: top;\n",
       "    }\n",
       "\n",
       "    .dataframe thead th {\n",
       "        text-align: right;\n",
       "    }\n",
       "</style>\n",
       "<table border=\"1\" class=\"dataframe\">\n",
       "  <thead>\n",
       "    <tr style=\"text-align: right;\">\n",
       "      <th></th>\n",
       "      <th>Area_name</th>\n",
       "      <th>Area_code</th>\n",
       "      <th>Area_type</th>\n",
       "      <th>Specimen_date</th>\n",
       "      <th>Daily_lab_confirmed_cases</th>\n",
       "      <th>Cumulative_lab_confirmed_cases</th>\n",
       "      <th>Cumulative_lab_confirmed_cases_rate</th>\n",
       "    </tr>\n",
       "  </thead>\n",
       "  <tbody>\n",
       "    <tr>\n",
       "      <th>37537</th>\n",
       "      <td>York</td>\n",
       "      <td>E06000014</td>\n",
       "      <td>Lower tier local authority</td>\n",
       "      <td>2020-07-20</td>\n",
       "      <td>2</td>\n",
       "      <td>916</td>\n",
       "      <td>436.4</td>\n",
       "    </tr>\n",
       "    <tr>\n",
       "      <th>38033</th>\n",
       "      <td>York</td>\n",
       "      <td>E06000014</td>\n",
       "      <td>Lower tier local authority</td>\n",
       "      <td>2020-07-23</td>\n",
       "      <td>0</td>\n",
       "      <td>916</td>\n",
       "      <td>436.4</td>\n",
       "    </tr>\n",
       "  </tbody>\n",
       "</table>\n",
       "</div>"
      ],
      "text/plain": [
       "      Area_name  Area_code                   Area_type Specimen_date  \\\n",
       "37537      York  E06000014  Lower tier local authority    2020-07-20   \n",
       "38033      York  E06000014  Lower tier local authority    2020-07-23   \n",
       "\n",
       "       Daily_lab_confirmed_cases  Cumulative_lab_confirmed_cases  \\\n",
       "37537                          2                             916   \n",
       "38033                          0                             916   \n",
       "\n",
       "       Cumulative_lab_confirmed_cases_rate  \n",
       "37537                                436.4  \n",
       "38033                                436.4  "
      ]
     },
     "execution_count": 20,
     "metadata": {},
     "output_type": "execute_result"
    }
   ],
   "source": [
    "df_helper = df_helper[df_helper.Cumulative_lab_confirmed_cases == df_helper.Cumulative_lab_confirmed_cases.max()]\n",
    "df_helper.head()"
   ]
  },
  {
   "cell_type": "code",
   "execution_count": 21,
   "metadata": {},
   "outputs": [
    {
     "data": {
      "text/html": [
       "<div>\n",
       "<style scoped>\n",
       "    .dataframe tbody tr th:only-of-type {\n",
       "        vertical-align: middle;\n",
       "    }\n",
       "\n",
       "    .dataframe tbody tr th {\n",
       "        vertical-align: top;\n",
       "    }\n",
       "\n",
       "    .dataframe thead th {\n",
       "        text-align: right;\n",
       "    }\n",
       "</style>\n",
       "<table border=\"1\" class=\"dataframe\">\n",
       "  <thead>\n",
       "    <tr style=\"text-align: right;\">\n",
       "      <th></th>\n",
       "      <th>Area_name</th>\n",
       "      <th>Area_code</th>\n",
       "      <th>Area_type</th>\n",
       "      <th>Specimen_date</th>\n",
       "      <th>Daily_lab_confirmed_cases</th>\n",
       "      <th>Cumulative_lab_confirmed_cases</th>\n",
       "      <th>Cumulative_lab_confirmed_cases_rate</th>\n",
       "    </tr>\n",
       "  </thead>\n",
       "  <tbody>\n",
       "    <tr>\n",
       "      <th>37537</th>\n",
       "      <td>York</td>\n",
       "      <td>E06000014</td>\n",
       "      <td>Lower tier local authority</td>\n",
       "      <td>2020-07-20</td>\n",
       "      <td>2</td>\n",
       "      <td>916</td>\n",
       "      <td>436.4</td>\n",
       "    </tr>\n",
       "    <tr>\n",
       "      <th>38033</th>\n",
       "      <td>York</td>\n",
       "      <td>E06000014</td>\n",
       "      <td>Lower tier local authority</td>\n",
       "      <td>2020-07-23</td>\n",
       "      <td>0</td>\n",
       "      <td>916</td>\n",
       "      <td>436.4</td>\n",
       "    </tr>\n",
       "  </tbody>\n",
       "</table>\n",
       "</div>"
      ],
      "text/plain": [
       "      Area_name  Area_code                   Area_type Specimen_date  \\\n",
       "37537      York  E06000014  Lower tier local authority    2020-07-20   \n",
       "38033      York  E06000014  Lower tier local authority    2020-07-23   \n",
       "\n",
       "       Daily_lab_confirmed_cases  Cumulative_lab_confirmed_cases  \\\n",
       "37537                          2                             916   \n",
       "38033                          0                             916   \n",
       "\n",
       "       Cumulative_lab_confirmed_cases_rate  \n",
       "37537                                436.4  \n",
       "38033                                436.4  "
      ]
     },
     "execution_count": 21,
     "metadata": {},
     "output_type": "execute_result"
    }
   ],
   "source": [
    "df_helper.sort_values(by='Specimen_date', inplace=True)\n",
    "df_helper.head()"
   ]
  },
  {
   "cell_type": "code",
   "execution_count": 22,
   "metadata": {},
   "outputs": [
    {
     "data": {
      "text/html": [
       "<div>\n",
       "<style scoped>\n",
       "    .dataframe tbody tr th:only-of-type {\n",
       "        vertical-align: middle;\n",
       "    }\n",
       "\n",
       "    .dataframe tbody tr th {\n",
       "        vertical-align: top;\n",
       "    }\n",
       "\n",
       "    .dataframe thead th {\n",
       "        text-align: right;\n",
       "    }\n",
       "</style>\n",
       "<table border=\"1\" class=\"dataframe\">\n",
       "  <thead>\n",
       "    <tr style=\"text-align: right;\">\n",
       "      <th></th>\n",
       "      <th>Area_name</th>\n",
       "      <th>Area_code</th>\n",
       "      <th>Area_type</th>\n",
       "      <th>Specimen_date</th>\n",
       "      <th>Daily_lab_confirmed_cases</th>\n",
       "      <th>Cumulative_lab_confirmed_cases</th>\n",
       "      <th>Cumulative_lab_confirmed_cases_rate</th>\n",
       "    </tr>\n",
       "  </thead>\n",
       "  <tbody>\n",
       "    <tr>\n",
       "      <th>38033</th>\n",
       "      <td>York</td>\n",
       "      <td>E06000014</td>\n",
       "      <td>Lower tier local authority</td>\n",
       "      <td>2020-07-23</td>\n",
       "      <td>0</td>\n",
       "      <td>916</td>\n",
       "      <td>436.4</td>\n",
       "    </tr>\n",
       "  </tbody>\n",
       "</table>\n",
       "</div>"
      ],
      "text/plain": [
       "      Area_name  Area_code                   Area_type Specimen_date  \\\n",
       "38033      York  E06000014  Lower tier local authority    2020-07-23   \n",
       "\n",
       "       Daily_lab_confirmed_cases  Cumulative_lab_confirmed_cases  \\\n",
       "38033                          0                             916   \n",
       "\n",
       "       Cumulative_lab_confirmed_cases_rate  \n",
       "38033                                436.4  "
      ]
     },
     "execution_count": 22,
     "metadata": {},
     "output_type": "execute_result"
    }
   ],
   "source": [
    "df_helper = df_helper.tail(1)\n",
    "df_helper.head()"
   ]
  },
  {
   "cell_type": "code",
   "execution_count": 23,
   "metadata": {},
   "outputs": [
    {
     "data": {
      "text/html": [
       "<div>\n",
       "<style scoped>\n",
       "    .dataframe tbody tr th:only-of-type {\n",
       "        vertical-align: middle;\n",
       "    }\n",
       "\n",
       "    .dataframe tbody tr th {\n",
       "        vertical-align: top;\n",
       "    }\n",
       "\n",
       "    .dataframe thead th {\n",
       "        text-align: right;\n",
       "    }\n",
       "</style>\n",
       "<table border=\"1\" class=\"dataframe\">\n",
       "  <thead>\n",
       "    <tr style=\"text-align: right;\">\n",
       "      <th></th>\n",
       "      <th>Area_name</th>\n",
       "      <th>Area_code</th>\n",
       "      <th>Area_type</th>\n",
       "      <th>Specimen_date</th>\n",
       "      <th>Daily_lab_confirmed_cases</th>\n",
       "      <th>Cumulative_lab_confirmed_cases</th>\n",
       "      <th>Cumulative_lab_confirmed_cases_rate</th>\n",
       "    </tr>\n",
       "  </thead>\n",
       "  <tbody>\n",
       "    <tr>\n",
       "      <th>0</th>\n",
       "      <td>York</td>\n",
       "      <td>E06000014</td>\n",
       "      <td>Lower tier local authority</td>\n",
       "      <td>2020-07-23</td>\n",
       "      <td>0</td>\n",
       "      <td>916</td>\n",
       "      <td>436.4</td>\n",
       "    </tr>\n",
       "  </tbody>\n",
       "</table>\n",
       "</div>"
      ],
      "text/plain": [
       "  Area_name  Area_code                   Area_type Specimen_date  \\\n",
       "0      York  E06000014  Lower tier local authority    2020-07-23   \n",
       "\n",
       "  Daily_lab_confirmed_cases Cumulative_lab_confirmed_cases  \\\n",
       "0                         0                            916   \n",
       "\n",
       "   Cumulative_lab_confirmed_cases_rate  \n",
       "0                                436.4  "
      ]
     },
     "execution_count": 23,
     "metadata": {},
     "output_type": "execute_result"
    }
   ],
   "source": [
    "df_out = df_out.append(df_helper, ignore_index=True)\n",
    "df_out.head()"
   ]
  },
  {
   "cell_type": "code",
   "execution_count": 24,
   "metadata": {},
   "outputs": [
    {
     "data": {
      "text/plain": [
       "(351, 7)"
      ]
     },
     "execution_count": 24,
     "metadata": {},
     "output_type": "execute_result"
    }
   ],
   "source": [
    "df_out = pd.DataFrame(columns=df_cases.columns)\n",
    "for area in unique_area_names:\n",
    "    df_helper = df_cases.loc[df_cases.Area_name==area]\n",
    "    df_helper = df_helper[df_helper.Cumulative_lab_confirmed_cases == df_helper.Cumulative_lab_confirmed_cases.max()]\n",
    "    df_helper.sort_values(by='Specimen_date', inplace=True)\n",
    "    df_helper = df_helper.tail(1)\n",
    "    df_out = df_out.append(df_helper, ignore_index=True)\n",
    "\n",
    "del df_helper  \n",
    "df_out.shape"
   ]
  },
  {
   "cell_type": "code",
   "execution_count": 25,
   "metadata": {},
   "outputs": [
    {
     "data": {
      "text/plain": [
       "351"
      ]
     },
     "execution_count": 25,
     "metadata": {},
     "output_type": "execute_result"
    }
   ],
   "source": [
    "df_out.Area_name.nunique()"
   ]
  },
  {
   "cell_type": "code",
   "execution_count": 26,
   "metadata": {},
   "outputs": [
    {
     "data": {
      "text/html": [
       "<div>\n",
       "<style scoped>\n",
       "    .dataframe tbody tr th:only-of-type {\n",
       "        vertical-align: middle;\n",
       "    }\n",
       "\n",
       "    .dataframe tbody tr th {\n",
       "        vertical-align: top;\n",
       "    }\n",
       "\n",
       "    .dataframe thead th {\n",
       "        text-align: right;\n",
       "    }\n",
       "</style>\n",
       "<table border=\"1\" class=\"dataframe\">\n",
       "  <thead>\n",
       "    <tr style=\"text-align: right;\">\n",
       "      <th></th>\n",
       "      <th>Area_name</th>\n",
       "      <th>Area_code</th>\n",
       "      <th>Area_type</th>\n",
       "      <th>Specimen_date</th>\n",
       "      <th>Daily_lab_confirmed_cases</th>\n",
       "      <th>Cumulative_lab_confirmed_cases</th>\n",
       "      <th>Cumulative_lab_confirmed_cases_rate</th>\n",
       "    </tr>\n",
       "  </thead>\n",
       "  <tbody>\n",
       "    <tr>\n",
       "      <th>0</th>\n",
       "      <td>York</td>\n",
       "      <td>E06000014</td>\n",
       "      <td>Lower tier local authority</td>\n",
       "      <td>2020-07-23</td>\n",
       "      <td>0</td>\n",
       "      <td>916</td>\n",
       "      <td>436.4</td>\n",
       "    </tr>\n",
       "    <tr>\n",
       "      <th>1</th>\n",
       "      <td>England</td>\n",
       "      <td>E92000001</td>\n",
       "      <td>Nation</td>\n",
       "      <td>2020-07-23</td>\n",
       "      <td>0</td>\n",
       "      <td>255740</td>\n",
       "      <td>456.9</td>\n",
       "    </tr>\n",
       "    <tr>\n",
       "      <th>2</th>\n",
       "      <td>Yorkshire and The Humber</td>\n",
       "      <td>E12000003</td>\n",
       "      <td>Region</td>\n",
       "      <td>2020-07-23</td>\n",
       "      <td>0</td>\n",
       "      <td>31077</td>\n",
       "      <td>567.1</td>\n",
       "    </tr>\n",
       "    <tr>\n",
       "      <th>3</th>\n",
       "      <td>Chiltern</td>\n",
       "      <td>E07000005</td>\n",
       "      <td>Lower tier local authority</td>\n",
       "      <td>2020-07-23</td>\n",
       "      <td>0</td>\n",
       "      <td>293</td>\n",
       "      <td>305.4</td>\n",
       "    </tr>\n",
       "    <tr>\n",
       "      <th>4</th>\n",
       "      <td>Buckinghamshire</td>\n",
       "      <td>E10000002</td>\n",
       "      <td>Upper tier local authority</td>\n",
       "      <td>2020-07-23</td>\n",
       "      <td>0</td>\n",
       "      <td>1721</td>\n",
       "      <td>318.7</td>\n",
       "    </tr>\n",
       "  </tbody>\n",
       "</table>\n",
       "</div>"
      ],
      "text/plain": [
       "                  Area_name  Area_code                   Area_type  \\\n",
       "0                      York  E06000014  Lower tier local authority   \n",
       "1                   England  E92000001                      Nation   \n",
       "2  Yorkshire and The Humber  E12000003                      Region   \n",
       "3                  Chiltern  E07000005  Lower tier local authority   \n",
       "4           Buckinghamshire  E10000002  Upper tier local authority   \n",
       "\n",
       "  Specimen_date Daily_lab_confirmed_cases Cumulative_lab_confirmed_cases  \\\n",
       "0    2020-07-23                         0                            916   \n",
       "1    2020-07-23                         0                         255740   \n",
       "2    2020-07-23                         0                          31077   \n",
       "3    2020-07-23                         0                            293   \n",
       "4    2020-07-23                         0                           1721   \n",
       "\n",
       "   Cumulative_lab_confirmed_cases_rate  \n",
       "0                                436.4  \n",
       "1                                456.9  \n",
       "2                                567.1  \n",
       "3                                305.4  \n",
       "4                                318.7  "
      ]
     },
     "execution_count": 26,
     "metadata": {},
     "output_type": "execute_result"
    }
   ],
   "source": [
    "df_out.head()"
   ]
  },
  {
   "cell_type": "markdown",
   "metadata": {},
   "source": [
    "## Top 10 affected Counties"
   ]
  },
  {
   "cell_type": "code",
   "execution_count": 27,
   "metadata": {},
   "outputs": [
    {
     "data": {
      "text/html": [
       "\n",
       "<div id=\"altair-viz-6cc02ab8e11d4c80a6ad3a216aced81b\"></div>\n",
       "<script type=\"text/javascript\">\n",
       "  (function(spec, embedOpt){\n",
       "    let outputDiv = document.currentScript.previousElementSibling;\n",
       "    if (outputDiv.id !== \"altair-viz-6cc02ab8e11d4c80a6ad3a216aced81b\") {\n",
       "      outputDiv = document.getElementById(\"altair-viz-6cc02ab8e11d4c80a6ad3a216aced81b\");\n",
       "    }\n",
       "    const paths = {\n",
       "      \"vega\": \"https://cdn.jsdelivr.net/npm//vega@5?noext\",\n",
       "      \"vega-lib\": \"https://cdn.jsdelivr.net/npm//vega-lib?noext\",\n",
       "      \"vega-lite\": \"https://cdn.jsdelivr.net/npm//vega-lite@4.8.1?noext\",\n",
       "      \"vega-embed\": \"https://cdn.jsdelivr.net/npm//vega-embed@6?noext\",\n",
       "    };\n",
       "\n",
       "    function loadScript(lib) {\n",
       "      return new Promise(function(resolve, reject) {\n",
       "        var s = document.createElement('script');\n",
       "        s.src = paths[lib];\n",
       "        s.async = true;\n",
       "        s.onload = () => resolve(paths[lib]);\n",
       "        s.onerror = () => reject(`Error loading script: ${paths[lib]}`);\n",
       "        document.getElementsByTagName(\"head\")[0].appendChild(s);\n",
       "      });\n",
       "    }\n",
       "\n",
       "    function showError(err) {\n",
       "      outputDiv.innerHTML = `<div class=\"error\" style=\"color:red;\">${err}</div>`;\n",
       "      throw err;\n",
       "    }\n",
       "\n",
       "    function displayChart(vegaEmbed) {\n",
       "      vegaEmbed(outputDiv, spec, embedOpt)\n",
       "        .catch(err => showError(`Javascript Error: ${err.message}<br>This usually means there's a typo in your chart specification. See the javascript console for the full traceback.`));\n",
       "    }\n",
       "\n",
       "    if(typeof define === \"function\" && define.amd) {\n",
       "      requirejs.config({paths});\n",
       "      require([\"vega-embed\"], displayChart, err => showError(`Error loading script: ${err.message}`));\n",
       "    } else if (typeof vegaEmbed === \"function\") {\n",
       "      displayChart(vegaEmbed);\n",
       "    } else {\n",
       "      loadScript(\"vega\")\n",
       "        .then(() => loadScript(\"vega-lite\"))\n",
       "        .then(() => loadScript(\"vega-embed\"))\n",
       "        .catch(showError)\n",
       "        .then(() => displayChart(vegaEmbed));\n",
       "    }\n",
       "  })({\"config\": {\"view\": {\"continuousWidth\": 400, \"continuousHeight\": 300}}, \"data\": {\"name\": \"data-d88d72572f0fc824a11551b49c92236c\"}, \"mark\": \"bar\", \"encoding\": {\"x\": {\"type\": \"quantitative\", \"aggregate\": \"max\", \"field\": \"Cumulative_lab_confirmed_cases\"}, \"y\": {\"type\": \"nominal\", \"field\": \"Area_name\", \"sort\": \"-x\"}}, \"$schema\": \"https://vega.github.io/schema/vega-lite/v4.8.1.json\", \"datasets\": {\"data-d88d72572f0fc824a11551b49c92236c\": [{\"Area_name\": \"England\", \"Area_code\": \"E92000001\", \"Area_type\": \"Nation\", \"Specimen_date\": \"2020-07-23T00:00:00\", \"Daily_lab_confirmed_cases\": 0, \"Cumulative_lab_confirmed_cases\": 255740, \"Cumulative_lab_confirmed_cases_rate\": 456.9}, {\"Area_name\": \"North West\", \"Area_code\": \"E12000002\", \"Area_type\": \"Region\", \"Specimen_date\": \"2020-07-23T00:00:00\", \"Daily_lab_confirmed_cases\": 0, \"Cumulative_lab_confirmed_cases\": 44678, \"Cumulative_lab_confirmed_cases_rate\": 612.7}, {\"Area_name\": \"South East\", \"Area_code\": \"E12000008\", \"Area_type\": \"Region\", \"Specimen_date\": \"2020-07-23T00:00:00\", \"Daily_lab_confirmed_cases\": 0, \"Cumulative_lab_confirmed_cases\": 34873, \"Cumulative_lab_confirmed_cases_rate\": 381.8}, {\"Area_name\": \"London\", \"Area_code\": \"E12000007\", \"Area_type\": \"Region\", \"Specimen_date\": \"2020-07-23T00:00:00\", \"Daily_lab_confirmed_cases\": 0, \"Cumulative_lab_confirmed_cases\": 34791, \"Cumulative_lab_confirmed_cases_rate\": 390.6}, {\"Area_name\": \"Yorkshire and The Humber\", \"Area_code\": \"E12000003\", \"Area_type\": \"Region\", \"Specimen_date\": \"2020-07-23T00:00:00\", \"Daily_lab_confirmed_cases\": 0, \"Cumulative_lab_confirmed_cases\": 31077, \"Cumulative_lab_confirmed_cases_rate\": 567.1}, {\"Area_name\": \"West Midlands\", \"Area_code\": \"E12000005\", \"Area_type\": \"Region\", \"Specimen_date\": \"2020-07-23T00:00:00\", \"Daily_lab_confirmed_cases\": 0, \"Cumulative_lab_confirmed_cases\": 26479, \"Cumulative_lab_confirmed_cases_rate\": 448.7}, {\"Area_name\": \"East of England\", \"Area_code\": \"E12000006\", \"Area_type\": \"Region\", \"Specimen_date\": \"2020-07-23T00:00:00\", \"Daily_lab_confirmed_cases\": 0, \"Cumulative_lab_confirmed_cases\": 24337, \"Cumulative_lab_confirmed_cases_rate\": 392.5}, {\"Area_name\": \"East Midlands\", \"Area_code\": \"E12000004\", \"Area_type\": \"Region\", \"Specimen_date\": \"2020-07-23T00:00:00\", \"Daily_lab_confirmed_cases\": 0, \"Cumulative_lab_confirmed_cases\": 22820, \"Cumulative_lab_confirmed_cases_rate\": 475.0}, {\"Area_name\": \"North East\", \"Area_code\": \"E12000001\", \"Area_type\": \"Region\", \"Specimen_date\": \"2020-07-23T00:00:00\", \"Daily_lab_confirmed_cases\": 0, \"Cumulative_lab_confirmed_cases\": 15263, \"Cumulative_lab_confirmed_cases_rate\": 574.2}, {\"Area_name\": \"South West\", \"Area_code\": \"E12000009\", \"Area_type\": \"Region\", \"Specimen_date\": \"2020-07-23T00:00:00\", \"Daily_lab_confirmed_cases\": 0, \"Cumulative_lab_confirmed_cases\": 13020, \"Cumulative_lab_confirmed_cases_rate\": 232.5}]}}, {\"mode\": \"vega-lite\"});\n",
       "</script>"
      ],
      "text/plain": [
       "alt.Chart(...)"
      ]
     },
     "execution_count": 27,
     "metadata": {},
     "output_type": "execute_result"
    }
   ],
   "source": [
    "# alt.data_transformers.enable('default', max_rows=df_cases.shape[0])\n",
    "areas_top_10 = df_out.sort_values(by='Cumulative_lab_confirmed_cases', ascending=False)[:10]\n",
    "areas_top_10 = areas_top_10.sort_values(by='Cumulative_lab_confirmed_cases', ascending=False)\n",
    "areas_top_10 = areas_top_10.reset_index()\n",
    "areas_top_10.drop('index', axis=1, inplace=True)\n",
    "alt.Chart(areas_top_10).mark_bar().encode(x='max(Cumulative_lab_confirmed_cases):Q', y=alt.Y('Area_name:N', sort='-x'))"
   ]
  },
  {
   "cell_type": "code",
   "execution_count": 28,
   "metadata": {},
   "outputs": [
    {
     "data": {
      "text/html": [
       "<div>\n",
       "<style scoped>\n",
       "    .dataframe tbody tr th:only-of-type {\n",
       "        vertical-align: middle;\n",
       "    }\n",
       "\n",
       "    .dataframe tbody tr th {\n",
       "        vertical-align: top;\n",
       "    }\n",
       "\n",
       "    .dataframe thead th {\n",
       "        text-align: right;\n",
       "    }\n",
       "</style>\n",
       "<table border=\"1\" class=\"dataframe\">\n",
       "  <thead>\n",
       "    <tr style=\"text-align: right;\">\n",
       "      <th></th>\n",
       "      <th>Area_name</th>\n",
       "      <th>Area_code</th>\n",
       "      <th>Area_type</th>\n",
       "      <th>Specimen_date</th>\n",
       "      <th>Daily_lab_confirmed_cases</th>\n",
       "      <th>Cumulative_lab_confirmed_cases</th>\n",
       "      <th>Cumulative_lab_confirmed_cases_rate</th>\n",
       "      <th>Population</th>\n",
       "    </tr>\n",
       "  </thead>\n",
       "  <tbody>\n",
       "    <tr>\n",
       "      <th>0</th>\n",
       "      <td>England</td>\n",
       "      <td>E92000001</td>\n",
       "      <td>Nation</td>\n",
       "      <td>2020-07-23</td>\n",
       "      <td>0</td>\n",
       "      <td>255740</td>\n",
       "      <td>456.9</td>\n",
       "      <td>56000000</td>\n",
       "    </tr>\n",
       "    <tr>\n",
       "      <th>1</th>\n",
       "      <td>North West</td>\n",
       "      <td>E12000002</td>\n",
       "      <td>Region</td>\n",
       "      <td>2020-07-23</td>\n",
       "      <td>0</td>\n",
       "      <td>44678</td>\n",
       "      <td>612.7</td>\n",
       "      <td>7300000</td>\n",
       "    </tr>\n",
       "    <tr>\n",
       "      <th>2</th>\n",
       "      <td>South East</td>\n",
       "      <td>E12000008</td>\n",
       "      <td>Region</td>\n",
       "      <td>2020-07-23</td>\n",
       "      <td>0</td>\n",
       "      <td>34873</td>\n",
       "      <td>381.8</td>\n",
       "      <td>9180000</td>\n",
       "    </tr>\n",
       "    <tr>\n",
       "      <th>3</th>\n",
       "      <td>London</td>\n",
       "      <td>E12000007</td>\n",
       "      <td>Region</td>\n",
       "      <td>2020-07-23</td>\n",
       "      <td>0</td>\n",
       "      <td>34791</td>\n",
       "      <td>390.6</td>\n",
       "      <td>8980000</td>\n",
       "    </tr>\n",
       "    <tr>\n",
       "      <th>4</th>\n",
       "      <td>Yorkshire and The Humber</td>\n",
       "      <td>E12000003</td>\n",
       "      <td>Region</td>\n",
       "      <td>2020-07-23</td>\n",
       "      <td>0</td>\n",
       "      <td>31077</td>\n",
       "      <td>567.1</td>\n",
       "      <td>5940000</td>\n",
       "    </tr>\n",
       "    <tr>\n",
       "      <th>5</th>\n",
       "      <td>West Midlands</td>\n",
       "      <td>E12000005</td>\n",
       "      <td>Region</td>\n",
       "      <td>2020-07-23</td>\n",
       "      <td>0</td>\n",
       "      <td>26479</td>\n",
       "      <td>448.7</td>\n",
       "      <td>5910000</td>\n",
       "    </tr>\n",
       "    <tr>\n",
       "      <th>6</th>\n",
       "      <td>East of England</td>\n",
       "      <td>E12000006</td>\n",
       "      <td>Region</td>\n",
       "      <td>2020-07-23</td>\n",
       "      <td>0</td>\n",
       "      <td>24337</td>\n",
       "      <td>392.5</td>\n",
       "      <td>6240000</td>\n",
       "    </tr>\n",
       "    <tr>\n",
       "      <th>7</th>\n",
       "      <td>East Midlands</td>\n",
       "      <td>E12000004</td>\n",
       "      <td>Region</td>\n",
       "      <td>2020-07-23</td>\n",
       "      <td>0</td>\n",
       "      <td>22820</td>\n",
       "      <td>475.0</td>\n",
       "      <td>4810000</td>\n",
       "    </tr>\n",
       "    <tr>\n",
       "      <th>8</th>\n",
       "      <td>North East</td>\n",
       "      <td>E12000001</td>\n",
       "      <td>Region</td>\n",
       "      <td>2020-07-23</td>\n",
       "      <td>0</td>\n",
       "      <td>15263</td>\n",
       "      <td>574.2</td>\n",
       "      <td>2660000</td>\n",
       "    </tr>\n",
       "    <tr>\n",
       "      <th>9</th>\n",
       "      <td>South West</td>\n",
       "      <td>E12000009</td>\n",
       "      <td>Region</td>\n",
       "      <td>2020-07-23</td>\n",
       "      <td>0</td>\n",
       "      <td>13020</td>\n",
       "      <td>232.5</td>\n",
       "      <td>5620000</td>\n",
       "    </tr>\n",
       "  </tbody>\n",
       "</table>\n",
       "</div>"
      ],
      "text/plain": [
       "                  Area_name  Area_code Area_type Specimen_date  \\\n",
       "0                   England  E92000001    Nation    2020-07-23   \n",
       "1                North West  E12000002    Region    2020-07-23   \n",
       "2                South East  E12000008    Region    2020-07-23   \n",
       "3                    London  E12000007    Region    2020-07-23   \n",
       "4  Yorkshire and The Humber  E12000003    Region    2020-07-23   \n",
       "5             West Midlands  E12000005    Region    2020-07-23   \n",
       "6           East of England  E12000006    Region    2020-07-23   \n",
       "7             East Midlands  E12000004    Region    2020-07-23   \n",
       "8                North East  E12000001    Region    2020-07-23   \n",
       "9                South West  E12000009    Region    2020-07-23   \n",
       "\n",
       "  Daily_lab_confirmed_cases Cumulative_lab_confirmed_cases  \\\n",
       "0                         0                         255740   \n",
       "1                         0                          44678   \n",
       "2                         0                          34873   \n",
       "3                         0                          34791   \n",
       "4                         0                          31077   \n",
       "5                         0                          26479   \n",
       "6                         0                          24337   \n",
       "7                         0                          22820   \n",
       "8                         0                          15263   \n",
       "9                         0                          13020   \n",
       "\n",
       "   Cumulative_lab_confirmed_cases_rate  Population  \n",
       "0                                456.9    56000000  \n",
       "1                                612.7     7300000  \n",
       "2                                381.8     9180000  \n",
       "3                                390.6     8980000  \n",
       "4                                567.1     5940000  \n",
       "5                                448.7     5910000  \n",
       "6                                392.5     6240000  \n",
       "7                                475.0     4810000  \n",
       "8                                574.2     2660000  \n",
       "9                                232.5     5620000  "
      ]
     },
     "execution_count": 28,
     "metadata": {},
     "output_type": "execute_result"
    }
   ],
   "source": [
    "## Population source google\n",
    "\n",
    "Population = [56000000, 7300000, 9180000, 8980000, 5940000, 5910000, 6240000, 4810000, 2660000, 5620000]\n",
    "areas_top_10['Population'] = Population\n",
    "areas_top_10\n"
   ]
  },
  {
   "cell_type": "code",
   "execution_count": 29,
   "metadata": {},
   "outputs": [],
   "source": [
    "areas_top_10_copy = areas_top_10.copy()"
   ]
  },
  {
   "cell_type": "markdown",
   "metadata": {},
   "source": [
    "## Geomap"
   ]
  },
  {
   "cell_type": "markdown",
   "metadata": {},
   "source": [
    "<img src=\"TAB.png\">"
   ]
  },
  {
   "cell_type": "code",
   "execution_count": 30,
   "metadata": {},
   "outputs": [
    {
     "data": {
      "text/html": [
       "<div>\n",
       "<style scoped>\n",
       "    .dataframe tbody tr th:only-of-type {\n",
       "        vertical-align: middle;\n",
       "    }\n",
       "\n",
       "    .dataframe tbody tr th {\n",
       "        vertical-align: top;\n",
       "    }\n",
       "\n",
       "    .dataframe thead th {\n",
       "        text-align: right;\n",
       "    }\n",
       "</style>\n",
       "<table border=\"1\" class=\"dataframe\">\n",
       "  <thead>\n",
       "    <tr style=\"text-align: right;\">\n",
       "      <th></th>\n",
       "      <th>Area_name</th>\n",
       "      <th>Area_code</th>\n",
       "      <th>Area_type</th>\n",
       "      <th>Specimen_date</th>\n",
       "      <th>Daily_lab_confirmed_cases</th>\n",
       "      <th>Cumulative_lab_confirmed_cases</th>\n",
       "      <th>Cumulative_lab_confirmed_cases_rate</th>\n",
       "      <th>Population</th>\n",
       "    </tr>\n",
       "  </thead>\n",
       "  <tbody>\n",
       "    <tr>\n",
       "      <th>0</th>\n",
       "      <td>England</td>\n",
       "      <td>E92000001</td>\n",
       "      <td>Nation</td>\n",
       "      <td>2020-07-23</td>\n",
       "      <td>0</td>\n",
       "      <td>255.74</td>\n",
       "      <td>456.9</td>\n",
       "      <td>560.0</td>\n",
       "    </tr>\n",
       "    <tr>\n",
       "      <th>1</th>\n",
       "      <td>North West</td>\n",
       "      <td>E12000002</td>\n",
       "      <td>Region</td>\n",
       "      <td>2020-07-23</td>\n",
       "      <td>0</td>\n",
       "      <td>44.678</td>\n",
       "      <td>612.7</td>\n",
       "      <td>73.0</td>\n",
       "    </tr>\n",
       "    <tr>\n",
       "      <th>2</th>\n",
       "      <td>South East</td>\n",
       "      <td>E12000008</td>\n",
       "      <td>Region</td>\n",
       "      <td>2020-07-23</td>\n",
       "      <td>0</td>\n",
       "      <td>34.873</td>\n",
       "      <td>381.8</td>\n",
       "      <td>91.8</td>\n",
       "    </tr>\n",
       "    <tr>\n",
       "      <th>3</th>\n",
       "      <td>London</td>\n",
       "      <td>E12000007</td>\n",
       "      <td>Region</td>\n",
       "      <td>2020-07-23</td>\n",
       "      <td>0</td>\n",
       "      <td>34.791</td>\n",
       "      <td>390.6</td>\n",
       "      <td>89.8</td>\n",
       "    </tr>\n",
       "    <tr>\n",
       "      <th>4</th>\n",
       "      <td>Yorkshire and The Humber</td>\n",
       "      <td>E12000003</td>\n",
       "      <td>Region</td>\n",
       "      <td>2020-07-23</td>\n",
       "      <td>0</td>\n",
       "      <td>31.077</td>\n",
       "      <td>567.1</td>\n",
       "      <td>59.4</td>\n",
       "    </tr>\n",
       "  </tbody>\n",
       "</table>\n",
       "</div>"
      ],
      "text/plain": [
       "                  Area_name  Area_code Area_type Specimen_date  \\\n",
       "0                   England  E92000001    Nation    2020-07-23   \n",
       "1                North West  E12000002    Region    2020-07-23   \n",
       "2                South East  E12000008    Region    2020-07-23   \n",
       "3                    London  E12000007    Region    2020-07-23   \n",
       "4  Yorkshire and The Humber  E12000003    Region    2020-07-23   \n",
       "\n",
       "  Daily_lab_confirmed_cases Cumulative_lab_confirmed_cases  \\\n",
       "0                         0                         255.74   \n",
       "1                         0                         44.678   \n",
       "2                         0                         34.873   \n",
       "3                         0                         34.791   \n",
       "4                         0                         31.077   \n",
       "\n",
       "   Cumulative_lab_confirmed_cases_rate  Population  \n",
       "0                                456.9       560.0  \n",
       "1                                612.7        73.0  \n",
       "2                                381.8        91.8  \n",
       "3                                390.6        89.8  \n",
       "4                                567.1        59.4  "
      ]
     },
     "execution_count": 30,
     "metadata": {},
     "output_type": "execute_result"
    }
   ],
   "source": [
    "## in Thousands\n",
    "areas_top_10['Population'] = areas_top_10['Population']/100000\n",
    "areas_top_10['Cumulative_lab_confirmed_cases'] = areas_top_10['Cumulative_lab_confirmed_cases']/1000\n",
    "areas_top_10.head()"
   ]
  },
  {
   "cell_type": "code",
   "execution_count": 31,
   "metadata": {},
   "outputs": [],
   "source": [
    "import numpy as np\n",
    "import seaborn as sns"
   ]
  },
  {
   "cell_type": "code",
   "execution_count": 32,
   "metadata": {},
   "outputs": [
    {
     "data": {
      "image/png": "[encoded data removed]",
      "text/plain": [
       "<Figure size 2160x576 with 1 Axes>"
      ]
     },
     "metadata": {
      "needs_background": "light"
     },
     "output_type": "display_data"
    }
   ],
   "source": [
    "plt.figure(figsize=(30,8))\n",
    "\n",
    "barWidth = 0.1\n",
    "\n",
    "bar1 = areas_top_10['Cumulative_lab_confirmed_cases']\n",
    "bar2 = areas_top_10['Population']\n",
    "\n",
    "\n",
    "r1 = np.arange(len(bar1))\n",
    "r2 = [x + barWidth for x in r1]\n",
    "\n",
    "plt.bar(r1, bar1, color='#7f6d5f', width=barWidth, edgecolor='white', label='Confirmed casesConfirmed cases')\n",
    "plt.bar(r2, bar2, color='#2d7f5e', width=barWidth, edgecolor='white', label='Population in lakhs')\n",
    "\n",
    "plt.xlabel('Areas', fontweight='bold')\n",
    "plt.xticks([r + barWidth for r in range(len(bar1))], areas_top_10['Area_name'])\n",
    "\n",
    "\n",
    "plt.legend()\n",
    "plt.show()\n",
    "\n",
    "\n",
    "\n"
   ]
  },
  {
   "cell_type": "code",
   "execution_count": 33,
   "metadata": {},
   "outputs": [
    {
     "data": {
      "image/png": "[encoded data removed]",
      "text/plain": [
       "<Figure size 2160x576 with 1 Axes>"
      ]
     },
     "metadata": {
      "needs_background": "light"
     },
     "output_type": "display_data"
    }
   ],
   "source": [
    "# Use Seaborn's context settings to make fonts larger.\n",
    "import seaborn as sns\n",
    "sns.set_context('talk')\n",
    "\n",
    "# Create a grouped bar chart, with Area as the x-axis\n",
    "# and Area as the variable we're grouping on so there\n",
    "# are two bars per Area.\n",
    "fig, ax = plt.subplots(figsize=(30,8))\n",
    "\n",
    "# Our x-axis. We basically just want a list\n",
    "# of numbers from zero with a value for each\n",
    "# of our Area.\n",
    "x = np.arange(len(areas_top_10.Area_name.unique()))\n",
    "\n",
    "# Define bar width. We need this to offset the second bar.\n",
    "bar_width = 0.1\n",
    "\n",
    "b1 = ax.bar(x, areas_top_10.Population,\n",
    "            width=bar_width, label='Poulation')\n",
    "# Same thing, but offset the x.\n",
    "b2 = ax.bar(x + bar_width, areas_top_10.Cumulative_lab_confirmed_cases,\n",
    "            width=bar_width, label='Cases')\n",
    "\n",
    "# Fix the x-axes.\n",
    "ax.set_xticks(x + bar_width / 2)\n",
    "ax.set_xticklabels(areas_top_10.Area_name.unique())\n",
    "\n",
    "# Add legend.\n",
    "ax.legend()\n",
    "\n",
    "# Axis styling.\n",
    "ax.spines['top'].set_visible(False)\n",
    "ax.spines['right'].set_visible(False)\n",
    "ax.spines['left'].set_visible(False)\n",
    "ax.spines['bottom'].set_color('#DDDDDD')\n",
    "ax.tick_params(bottom=False, left=False)\n",
    "ax.set_axisbelow(True)\n",
    "ax.yaxis.grid(True, color='#EEEEEE')\n",
    "ax.xaxis.grid(False)\n",
    "\n",
    "# Add axis and chart labels.\n",
    "ax.set_xlabel('Area', labelpad=15)\n",
    "ax.set_ylabel('Population and Cases', labelpad=15)\n",
    "ax.set_title('Population and Cases per Area', pad=15)\n",
    "\n",
    "fig.tight_layout()"
   ]
  },
  {
   "cell_type": "code",
   "execution_count": 34,
   "metadata": {},
   "outputs": [
    {
     "data": {
      "text/plain": [
       "(351, 7)"
      ]
     },
     "execution_count": 34,
     "metadata": {},
     "output_type": "execute_result"
    }
   ],
   "source": [
    "df_out.shape"
   ]
  },
  {
   "cell_type": "code",
   "execution_count": 35,
   "metadata": {},
   "outputs": [
    {
     "data": {
      "text/html": [
       "<div>\n",
       "<style scoped>\n",
       "    .dataframe tbody tr th:only-of-type {\n",
       "        vertical-align: middle;\n",
       "    }\n",
       "\n",
       "    .dataframe tbody tr th {\n",
       "        vertical-align: top;\n",
       "    }\n",
       "\n",
       "    .dataframe thead th {\n",
       "        text-align: right;\n",
       "    }\n",
       "</style>\n",
       "<table border=\"1\" class=\"dataframe\">\n",
       "  <thead>\n",
       "    <tr style=\"text-align: right;\">\n",
       "      <th></th>\n",
       "      <th>Area_name</th>\n",
       "      <th>Area_code</th>\n",
       "      <th>Area_type</th>\n",
       "      <th>Specimen_date</th>\n",
       "      <th>Daily_lab_confirmed_cases</th>\n",
       "      <th>Cumulative_lab_confirmed_cases</th>\n",
       "      <th>Cumulative_lab_confirmed_cases_rate</th>\n",
       "      <th>Population</th>\n",
       "    </tr>\n",
       "  </thead>\n",
       "  <tbody>\n",
       "    <tr>\n",
       "      <th>0</th>\n",
       "      <td>England</td>\n",
       "      <td>E92000001</td>\n",
       "      <td>Nation</td>\n",
       "      <td>2020-07-23</td>\n",
       "      <td>0</td>\n",
       "      <td>255740</td>\n",
       "      <td>456.9</td>\n",
       "      <td>56000000</td>\n",
       "    </tr>\n",
       "    <tr>\n",
       "      <th>1</th>\n",
       "      <td>North West</td>\n",
       "      <td>E12000002</td>\n",
       "      <td>Region</td>\n",
       "      <td>2020-07-23</td>\n",
       "      <td>0</td>\n",
       "      <td>44678</td>\n",
       "      <td>612.7</td>\n",
       "      <td>7300000</td>\n",
       "    </tr>\n",
       "    <tr>\n",
       "      <th>2</th>\n",
       "      <td>South East</td>\n",
       "      <td>E12000008</td>\n",
       "      <td>Region</td>\n",
       "      <td>2020-07-23</td>\n",
       "      <td>0</td>\n",
       "      <td>34873</td>\n",
       "      <td>381.8</td>\n",
       "      <td>9180000</td>\n",
       "    </tr>\n",
       "    <tr>\n",
       "      <th>3</th>\n",
       "      <td>London</td>\n",
       "      <td>E12000007</td>\n",
       "      <td>Region</td>\n",
       "      <td>2020-07-23</td>\n",
       "      <td>0</td>\n",
       "      <td>34791</td>\n",
       "      <td>390.6</td>\n",
       "      <td>8980000</td>\n",
       "    </tr>\n",
       "    <tr>\n",
       "      <th>4</th>\n",
       "      <td>Yorkshire and The Humber</td>\n",
       "      <td>E12000003</td>\n",
       "      <td>Region</td>\n",
       "      <td>2020-07-23</td>\n",
       "      <td>0</td>\n",
       "      <td>31077</td>\n",
       "      <td>567.1</td>\n",
       "      <td>5940000</td>\n",
       "    </tr>\n",
       "    <tr>\n",
       "      <th>5</th>\n",
       "      <td>West Midlands</td>\n",
       "      <td>E12000005</td>\n",
       "      <td>Region</td>\n",
       "      <td>2020-07-23</td>\n",
       "      <td>0</td>\n",
       "      <td>26479</td>\n",
       "      <td>448.7</td>\n",
       "      <td>5910000</td>\n",
       "    </tr>\n",
       "    <tr>\n",
       "      <th>6</th>\n",
       "      <td>East of England</td>\n",
       "      <td>E12000006</td>\n",
       "      <td>Region</td>\n",
       "      <td>2020-07-23</td>\n",
       "      <td>0</td>\n",
       "      <td>24337</td>\n",
       "      <td>392.5</td>\n",
       "      <td>6240000</td>\n",
       "    </tr>\n",
       "    <tr>\n",
       "      <th>7</th>\n",
       "      <td>East Midlands</td>\n",
       "      <td>E12000004</td>\n",
       "      <td>Region</td>\n",
       "      <td>2020-07-23</td>\n",
       "      <td>0</td>\n",
       "      <td>22820</td>\n",
       "      <td>475.0</td>\n",
       "      <td>4810000</td>\n",
       "    </tr>\n",
       "    <tr>\n",
       "      <th>8</th>\n",
       "      <td>North East</td>\n",
       "      <td>E12000001</td>\n",
       "      <td>Region</td>\n",
       "      <td>2020-07-23</td>\n",
       "      <td>0</td>\n",
       "      <td>15263</td>\n",
       "      <td>574.2</td>\n",
       "      <td>2660000</td>\n",
       "    </tr>\n",
       "    <tr>\n",
       "      <th>9</th>\n",
       "      <td>South West</td>\n",
       "      <td>E12000009</td>\n",
       "      <td>Region</td>\n",
       "      <td>2020-07-23</td>\n",
       "      <td>0</td>\n",
       "      <td>13020</td>\n",
       "      <td>232.5</td>\n",
       "      <td>5620000</td>\n",
       "    </tr>\n",
       "  </tbody>\n",
       "</table>\n",
       "</div>"
      ],
      "text/plain": [
       "                  Area_name  Area_code Area_type Specimen_date  \\\n",
       "0                   England  E92000001    Nation    2020-07-23   \n",
       "1                North West  E12000002    Region    2020-07-23   \n",
       "2                South East  E12000008    Region    2020-07-23   \n",
       "3                    London  E12000007    Region    2020-07-23   \n",
       "4  Yorkshire and The Humber  E12000003    Region    2020-07-23   \n",
       "5             West Midlands  E12000005    Region    2020-07-23   \n",
       "6           East of England  E12000006    Region    2020-07-23   \n",
       "7             East Midlands  E12000004    Region    2020-07-23   \n",
       "8                North East  E12000001    Region    2020-07-23   \n",
       "9                South West  E12000009    Region    2020-07-23   \n",
       "\n",
       "  Daily_lab_confirmed_cases Cumulative_lab_confirmed_cases  \\\n",
       "0                         0                         255740   \n",
       "1                         0                          44678   \n",
       "2                         0                          34873   \n",
       "3                         0                          34791   \n",
       "4                         0                          31077   \n",
       "5                         0                          26479   \n",
       "6                         0                          24337   \n",
       "7                         0                          22820   \n",
       "8                         0                          15263   \n",
       "9                         0                          13020   \n",
       "\n",
       "   Cumulative_lab_confirmed_cases_rate  Population  \n",
       "0                                456.9    56000000  \n",
       "1                                612.7     7300000  \n",
       "2                                381.8     9180000  \n",
       "3                                390.6     8980000  \n",
       "4                                567.1     5940000  \n",
       "5                                448.7     5910000  \n",
       "6                                392.5     6240000  \n",
       "7                                475.0     4810000  \n",
       "8                                574.2     2660000  \n",
       "9                                232.5     5620000  "
      ]
     },
     "execution_count": 35,
     "metadata": {},
     "output_type": "execute_result"
    }
   ],
   "source": [
    "areas_top_10_copy"
   ]
  },
  {
   "cell_type": "markdown",
   "metadata": {},
   "source": [
    "## Scatter Plot"
   ]
  },
  {
   "cell_type": "code",
   "execution_count": 36,
   "metadata": {},
   "outputs": [
    {
     "data": {
      "text/plain": [
       "<matplotlib.legend.Legend at 0x12a948040>"
      ]
     },
     "execution_count": 36,
     "metadata": {},
     "output_type": "execute_result"
    },
    {
     "data": {
      "image/png": "[encoded data removed]",
      "text/plain": [
       "<Figure size 720x720 with 1 Axes>"
      ]
     },
     "metadata": {
      "needs_background": "light"
     },
     "output_type": "display_data"
    }
   ],
   "source": [
    "import matplotlib.pyplot as plt\n",
    "plt.figure(figsize = (10,10))\n",
    "sns.scatterplot(x='Cumulative_lab_confirmed_cases', y='Population',size='Cumulative_lab_confirmed_cases',\n",
    "                data=areas_top_10_copy, hue='Area_name')\n",
    "plt.legend(loc= 'upper right')"
   ]
  },
  {
   "cell_type": "markdown",
   "metadata": {},
   "source": [
    "## Scatter-Bubble Plot"
   ]
  },
  {
   "cell_type": "code",
   "execution_count": 37,
   "metadata": {},
   "outputs": [
    {
     "data": {
      "text/html": [
       "\n",
       "<div id=\"altair-viz-632871bc1a204aecaac2efa711f35f1a\"></div>\n",
       "<script type=\"text/javascript\">\n",
       "  (function(spec, embedOpt){\n",
       "    let outputDiv = document.currentScript.previousElementSibling;\n",
       "    if (outputDiv.id !== \"altair-viz-632871bc1a204aecaac2efa711f35f1a\") {\n",
       "      outputDiv = document.getElementById(\"altair-viz-632871bc1a204aecaac2efa711f35f1a\");\n",
       "    }\n",
       "    const paths = {\n",
       "      \"vega\": \"https://cdn.jsdelivr.net/npm//vega@5?noext\",\n",
       "      \"vega-lib\": \"https://cdn.jsdelivr.net/npm//vega-lib?noext\",\n",
       "      \"vega-lite\": \"https://cdn.jsdelivr.net/npm//vega-lite@4.8.1?noext\",\n",
       "      \"vega-embed\": \"https://cdn.jsdelivr.net/npm//vega-embed@6?noext\",\n",
       "    };\n",
       "\n",
       "    function loadScript(lib) {\n",
       "      return new Promise(function(resolve, reject) {\n",
       "        var s = document.createElement('script');\n",
       "        s.src = paths[lib];\n",
       "        s.async = true;\n",
       "        s.onload = () => resolve(paths[lib]);\n",
       "        s.onerror = () => reject(`Error loading script: ${paths[lib]}`);\n",
       "        document.getElementsByTagName(\"head\")[0].appendChild(s);\n",
       "      });\n",
       "    }\n",
       "\n",
       "    function showError(err) {\n",
       "      outputDiv.innerHTML = `<div class=\"error\" style=\"color:red;\">${err}</div>`;\n",
       "      throw err;\n",
       "    }\n",
       "\n",
       "    function displayChart(vegaEmbed) {\n",
       "      vegaEmbed(outputDiv, spec, embedOpt)\n",
       "        .catch(err => showError(`Javascript Error: ${err.message}<br>This usually means there's a typo in your chart specification. See the javascript console for the full traceback.`));\n",
       "    }\n",
       "\n",
       "    if(typeof define === \"function\" && define.amd) {\n",
       "      requirejs.config({paths});\n",
       "      require([\"vega-embed\"], displayChart, err => showError(`Error loading script: ${err.message}`));\n",
       "    } else if (typeof vegaEmbed === \"function\") {\n",
       "      displayChart(vegaEmbed);\n",
       "    } else {\n",
       "      loadScript(\"vega\")\n",
       "        .then(() => loadScript(\"vega-lite\"))\n",
       "        .then(() => loadScript(\"vega-embed\"))\n",
       "        .catch(showError)\n",
       "        .then(() => displayChart(vegaEmbed));\n",
       "    }\n",
       "  })({\"config\": {\"view\": {\"continuousWidth\": 400, \"continuousHeight\": 300}}, \"data\": {\"name\": \"data-2363e1681706603af21da6ae88edd5d4\"}, \"mark\": \"circle\", \"encoding\": {\"color\": {\"type\": \"nominal\", \"field\": \"Area_name\"}, \"size\": {\"type\": \"quantitative\", \"field\": \"Population\"}, \"x\": {\"type\": \"quantitative\", \"field\": \"Population\", \"scale\": {\"zero\": false}}, \"y\": {\"type\": \"quantitative\", \"field\": \"Cumulative_lab_confirmed_cases\", \"scale\": {\"padding\": 1, \"zero\": false}}}, \"$schema\": \"https://vega.github.io/schema/vega-lite/v4.8.1.json\", \"datasets\": {\"data-2363e1681706603af21da6ae88edd5d4\": [{\"Area_name\": \"England\", \"Area_code\": \"E92000001\", \"Area_type\": \"Nation\", \"Specimen_date\": \"2020-07-23T00:00:00\", \"Daily_lab_confirmed_cases\": 0, \"Cumulative_lab_confirmed_cases\": 255740, \"Cumulative_lab_confirmed_cases_rate\": 456.9, \"Population\": 56000000}, {\"Area_name\": \"North West\", \"Area_code\": \"E12000002\", \"Area_type\": \"Region\", \"Specimen_date\": \"2020-07-23T00:00:00\", \"Daily_lab_confirmed_cases\": 0, \"Cumulative_lab_confirmed_cases\": 44678, \"Cumulative_lab_confirmed_cases_rate\": 612.7, \"Population\": 7300000}, {\"Area_name\": \"South East\", \"Area_code\": \"E12000008\", \"Area_type\": \"Region\", \"Specimen_date\": \"2020-07-23T00:00:00\", \"Daily_lab_confirmed_cases\": 0, \"Cumulative_lab_confirmed_cases\": 34873, \"Cumulative_lab_confirmed_cases_rate\": 381.8, \"Population\": 9180000}, {\"Area_name\": \"London\", \"Area_code\": \"E12000007\", \"Area_type\": \"Region\", \"Specimen_date\": \"2020-07-23T00:00:00\", \"Daily_lab_confirmed_cases\": 0, \"Cumulative_lab_confirmed_cases\": 34791, \"Cumulative_lab_confirmed_cases_rate\": 390.6, \"Population\": 8980000}, {\"Area_name\": \"Yorkshire and The Humber\", \"Area_code\": \"E12000003\", \"Area_type\": \"Region\", \"Specimen_date\": \"2020-07-23T00:00:00\", \"Daily_lab_confirmed_cases\": 0, \"Cumulative_lab_confirmed_cases\": 31077, \"Cumulative_lab_confirmed_cases_rate\": 567.1, \"Population\": 5940000}, {\"Area_name\": \"West Midlands\", \"Area_code\": \"E12000005\", \"Area_type\": \"Region\", \"Specimen_date\": \"2020-07-23T00:00:00\", \"Daily_lab_confirmed_cases\": 0, \"Cumulative_lab_confirmed_cases\": 26479, \"Cumulative_lab_confirmed_cases_rate\": 448.7, \"Population\": 5910000}, {\"Area_name\": \"East of England\", \"Area_code\": \"E12000006\", \"Area_type\": \"Region\", \"Specimen_date\": \"2020-07-23T00:00:00\", \"Daily_lab_confirmed_cases\": 0, \"Cumulative_lab_confirmed_cases\": 24337, \"Cumulative_lab_confirmed_cases_rate\": 392.5, \"Population\": 6240000}, {\"Area_name\": \"East Midlands\", \"Area_code\": \"E12000004\", \"Area_type\": \"Region\", \"Specimen_date\": \"2020-07-23T00:00:00\", \"Daily_lab_confirmed_cases\": 0, \"Cumulative_lab_confirmed_cases\": 22820, \"Cumulative_lab_confirmed_cases_rate\": 475.0, \"Population\": 4810000}, {\"Area_name\": \"North East\", \"Area_code\": \"E12000001\", \"Area_type\": \"Region\", \"Specimen_date\": \"2020-07-23T00:00:00\", \"Daily_lab_confirmed_cases\": 0, \"Cumulative_lab_confirmed_cases\": 15263, \"Cumulative_lab_confirmed_cases_rate\": 574.2, \"Population\": 2660000}, {\"Area_name\": \"South West\", \"Area_code\": \"E12000009\", \"Area_type\": \"Region\", \"Specimen_date\": \"2020-07-23T00:00:00\", \"Daily_lab_confirmed_cases\": 0, \"Cumulative_lab_confirmed_cases\": 13020, \"Cumulative_lab_confirmed_cases_rate\": 232.5, \"Population\": 5620000}]}}, {\"mode\": \"vega-lite\"});\n",
       "</script>"
      ],
      "text/plain": [
       "alt.Chart(...)"
      ]
     },
     "execution_count": 37,
     "metadata": {},
     "output_type": "execute_result"
    }
   ],
   "source": [
    "alt.Chart(areas_top_10_copy).mark_circle().encode(\n",
    "    alt.X('Population', scale=alt.Scale(zero=False)),\n",
    "    alt.Y('Cumulative_lab_confirmed_cases', scale=alt.Scale(zero=False, padding=1)),\n",
    "    color='Area_name',\n",
    "    size='Population'\n",
    ")"
   ]
  },
  {
   "cell_type": "markdown",
   "metadata": {},
   "source": [
    "<img src=\"Img.png\">"
   ]
  },
  {
   "cell_type": "markdown",
   "metadata": {},
   "source": [
    "# Time series analysis is carried out in next Notebook"
   ]
  },
  {
   "cell_type": "code",
   "execution_count": null,
   "metadata": {},
   "outputs": [],
   "source": []
  }
 ],
 "metadata": {
  "kernelspec": {
   "display_name": "env_ml",
   "language": "python",
   "name": "env_ml"
  },
  "language_info": {
   "codemirror_mode": {
    "name": "ipython",
    "version": 3
   },
   "file_extension": ".py",
   "mimetype": "text/x-python",
   "name": "python",
   "nbconvert_exporter": "python",
   "pygments_lexer": "ipython3",
   "version": "3.8.5"
  }
 },
 "nbformat": 4,
 "nbformat_minor": 4
}
